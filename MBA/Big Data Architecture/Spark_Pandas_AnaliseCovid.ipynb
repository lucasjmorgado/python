{
  "nbformat": 4,
  "nbformat_minor": 0,
  "metadata": {
    "colab": {
      "name": "LucasMorgado_Aula_4_Mostrando_como_Funciona_para_os_Alunos.ipynb",
      "provenance": [],
      "collapsed_sections": []
    },
    "kernelspec": {
      "name": "python3",
      "display_name": "Python 3"
    }
  },
  "cells": [
    {
      "cell_type": "markdown",
      "metadata": {
        "id": "7ngE8db6piW_"
      },
      "source": [
        "**1 - Configurando o Spark no Python**\n",
        "\n",
        "Etapa responsável por realizar o Download e configuração do Apache Spark."
      ]
    },
    {
      "cell_type": "code",
      "metadata": {
        "id": "IrW5sVN1qcQ8",
        "colab": {
          "base_uri": "https://localhost:8080/"
        },
        "outputId": "d2b5e462-a285-41bc-aff3-2ff767f028af"
      },
      "source": [
        "!ls \n",
        "!rm -rf *\n",
        "#Instacao e configuracao do Java 8\n",
        "!apt-get install openjdk-8-jdk-headless -qq > /dev/null\n",
        "#Download do Apache Spark\n",
        "!wget -q http://apache.osuosl.org/spark/spark-3.1.2/spark-3.1.2-bin-hadoop3.2.tgz\n",
        "#Descompatacao do Apache Spark\n",
        "!tar xf spark-3.1.2-bin-hadoop3.2.tgz\n",
        "#Instalacao do Findspark\n",
        "!pip install -q findspark"
      ],
      "execution_count": 1,
      "outputs": [
        {
          "output_type": "stream",
          "text": [
            "sample_data\n"
          ],
          "name": "stdout"
        }
      ]
    },
    {
      "cell_type": "markdown",
      "metadata": {
        "id": "q5qt9EzIr7EC"
      },
      "source": [
        "**2 - Configurando o Ambiente**\n",
        "\n",
        "Etapa responsável por configurar o ambiente do Spark"
      ]
    },
    {
      "cell_type": "code",
      "metadata": {
        "id": "w-Je7w5hsHUv"
      },
      "source": [
        "import os\n",
        "os.environ[\"JAVA_HOME\"] = \"/usr/lib/jvm/java-8-openjdk-amd64\"\n",
        "os.environ[\"SPARK_HOME\"] = \"/content/spark-3.1.2-bin-hadoop3.2\""
      ],
      "execution_count": 2,
      "outputs": []
    },
    {
      "cell_type": "markdown",
      "metadata": {
        "id": "8fM2wYcPseoa"
      },
      "source": [
        "**3 - Configurando a sessão do Spark**\n",
        "\n",
        "Etapa responsável por inicializar a sessão do Spark"
      ]
    },
    {
      "cell_type": "code",
      "metadata": {
        "id": "4m86_v1Isqo1"
      },
      "source": [
        "import findspark\n",
        "findspark.init()\n",
        "from pyspark.sql import SparkSession\n",
        "spark = SparkSession.builder.master(\"local[*]\").getOrCreate()"
      ],
      "execution_count": 4,
      "outputs": []
    },
    {
      "cell_type": "markdown",
      "metadata": {
        "id": "sGR0NhUms_tW"
      },
      "source": [
        "**4 - Validando a Configuração e Versão do Spark**\n",
        "\n",
        "Etapa de verificação "
      ]
    },
    {
      "cell_type": "code",
      "metadata": {
        "id": "zz8b2dOjtDoV",
        "colab": {
          "base_uri": "https://localhost:8080/"
        },
        "outputId": "04229862-a07b-47f9-afc4-ae296ca5b8a3"
      },
      "source": [
        "import pyspark\n",
        "print(pyspark.__version__)"
      ],
      "execution_count": 5,
      "outputs": [
        {
          "output_type": "stream",
          "text": [
            "3.1.2\n"
          ],
          "name": "stdout"
        }
      ]
    },
    {
      "cell_type": "markdown",
      "metadata": {
        "id": "ly0F0jJcuB2k"
      },
      "source": [
        "**5 - Download dos Dados **\n",
        "Etapa responsável por realizar o Download das informações de Gastos por meio de cartão de pagamento providas através da API: http://www.portaltransparencia.gov.br/api-de-dados/cartoes?pagina=1\n",
        "\n",
        "Ou\n",
        "\n",
        "CovidTracking através do: https://api.covidtracking.com/\n",
        "\n",
        "Ou\n",
        "\n",
        "Casas de Cambio:\n",
        "\n",
        "https://www3.bcb.gov.br/vet/rest/v2/listaPontoCambio?cnpj=00000000\n",
        "\n"
      ]
    },
    {
      "cell_type": "code",
      "metadata": {
        "id": "P1su3TfNuFVh",
        "colab": {
          "base_uri": "https://localhost:8080/"
        },
        "outputId": "56b06573-9ba3-48e4-a6c2-ca18128792e8"
      },
      "source": [
        "!curl -X GET --header 'Accept: application/csv' 'https://raw.githubusercontent.com/owid/covid-19-data/master/public/data/owid-covid-data.csv' > consulta.csv"
      ],
      "execution_count": 27,
      "outputs": [
        {
          "output_type": "stream",
          "text": [
            "  % Total    % Received % Xferd  Average Speed   Time    Time     Time  Current\n",
            "                                 Dload  Upload   Total   Spent    Left  Speed\n",
            "100 24.9M  100 24.9M    0     0  12.2M      0  0:00:02  0:00:02 --:--:-- 12.2M\n"
          ],
          "name": "stdout"
        }
      ]
    },
    {
      "cell_type": "markdown",
      "metadata": {
        "id": "fyfxjMmtvROc"
      },
      "source": [
        "**6 - Carregando os dados no Spark**\n",
        "\n",
        "Etapa responsável pela carga de dados no Spark."
      ]
    },
    {
      "cell_type": "code",
      "metadata": {
        "id": "kESr_0SfwDR9"
      },
      "source": [
        "#Instancia o contexto do Spark\n",
        "sc = spark.sparkContext\n",
        "#Realiza a leitura da nossa consulta realizada na API do Covid\n",
        "path = \"/content/consulta.csv\"\n",
        "#Declara dataframe df com o conteudo da api que estava no JSON\n",
        "df = spark.read.option(\"header\",True).csv(path)"
      ],
      "execution_count": 28,
      "outputs": []
    },
    {
      "cell_type": "markdown",
      "metadata": {
        "id": "kLEJ7U5twj06"
      },
      "source": [
        "**7 - Explorando os dados que foram obtidos**\n",
        "\n",
        "Etapa de exploração dos dados."
      ]
    },
    {
      "cell_type": "code",
      "metadata": {
        "id": "cuerELhJwqQi",
        "colab": {
          "base_uri": "https://localhost:8080/"
        },
        "outputId": "872f80d5-0958-44ad-a925-0185fa8e6db4"
      },
      "source": [
        "#Imprime a estrutura de dados do nosso dataframe\n",
        "df.printSchema()\n",
        "#Imprime uma amosta de dados ( para especificar as linhas basta colocar a quantidade entre ())\n",
        "df.show()"
      ],
      "execution_count": 167,
      "outputs": [
        {
          "output_type": "stream",
          "text": [
            "root\n",
            " |-- iso_code: string (nullable = true)\n",
            " |-- continent: string (nullable = true)\n",
            " |-- location: string (nullable = true)\n",
            " |-- date: string (nullable = true)\n",
            " |-- total_cases: string (nullable = true)\n",
            " |-- new_cases: string (nullable = true)\n",
            " |-- new_cases_smoothed: string (nullable = true)\n",
            " |-- total_deaths: string (nullable = true)\n",
            " |-- new_deaths: string (nullable = true)\n",
            " |-- new_deaths_smoothed: string (nullable = true)\n",
            " |-- total_cases_per_million: string (nullable = true)\n",
            " |-- new_cases_per_million: string (nullable = true)\n",
            " |-- new_cases_smoothed_per_million: string (nullable = true)\n",
            " |-- total_deaths_per_million: string (nullable = true)\n",
            " |-- new_deaths_per_million: string (nullable = true)\n",
            " |-- new_deaths_smoothed_per_million: string (nullable = true)\n",
            " |-- reproduction_rate: string (nullable = true)\n",
            " |-- icu_patients: string (nullable = true)\n",
            " |-- icu_patients_per_million: string (nullable = true)\n",
            " |-- hosp_patients: string (nullable = true)\n",
            " |-- hosp_patients_per_million: string (nullable = true)\n",
            " |-- weekly_icu_admissions: string (nullable = true)\n",
            " |-- weekly_icu_admissions_per_million: string (nullable = true)\n",
            " |-- weekly_hosp_admissions: string (nullable = true)\n",
            " |-- weekly_hosp_admissions_per_million: string (nullable = true)\n",
            " |-- new_tests: string (nullable = true)\n",
            " |-- total_tests: string (nullable = true)\n",
            " |-- total_tests_per_thousand: string (nullable = true)\n",
            " |-- new_tests_per_thousand: string (nullable = true)\n",
            " |-- new_tests_smoothed: string (nullable = true)\n",
            " |-- new_tests_smoothed_per_thousand: string (nullable = true)\n",
            " |-- positive_rate: string (nullable = true)\n",
            " |-- tests_per_case: string (nullable = true)\n",
            " |-- tests_units: string (nullable = true)\n",
            " |-- total_vaccinations: string (nullable = true)\n",
            " |-- people_vaccinated: string (nullable = true)\n",
            " |-- people_fully_vaccinated: string (nullable = true)\n",
            " |-- new_vaccinations: string (nullable = true)\n",
            " |-- new_vaccinations_smoothed: string (nullable = true)\n",
            " |-- total_vaccinations_per_hundred: string (nullable = true)\n",
            " |-- people_vaccinated_per_hundred: string (nullable = true)\n",
            " |-- people_fully_vaccinated_per_hundred: string (nullable = true)\n",
            " |-- new_vaccinations_smoothed_per_million: string (nullable = true)\n",
            " |-- stringency_index: string (nullable = true)\n",
            " |-- population: string (nullable = true)\n",
            " |-- population_density: string (nullable = true)\n",
            " |-- median_age: string (nullable = true)\n",
            " |-- aged_65_older: string (nullable = true)\n",
            " |-- aged_70_older: string (nullable = true)\n",
            " |-- gdp_per_capita: string (nullable = true)\n",
            " |-- extreme_poverty: string (nullable = true)\n",
            " |-- cardiovasc_death_rate: string (nullable = true)\n",
            " |-- diabetes_prevalence: string (nullable = true)\n",
            " |-- female_smokers: string (nullable = true)\n",
            " |-- male_smokers: string (nullable = true)\n",
            " |-- handwashing_facilities: string (nullable = true)\n",
            " |-- hospital_beds_per_thousand: string (nullable = true)\n",
            " |-- life_expectancy: string (nullable = true)\n",
            " |-- human_development_index: string (nullable = true)\n",
            " |-- excess_mortality: string (nullable = true)\n",
            "\n",
            "+--------+---------+-----------+----------+-----------+---------+------------------+------------+----------+-------------------+-----------------------+---------------------+------------------------------+------------------------+----------------------+-------------------------------+-----------------+------------+------------------------+-------------+-------------------------+---------------------+---------------------------------+----------------------+----------------------------------+---------+-----------+------------------------+----------------------+------------------+-------------------------------+-------------+--------------+-----------+------------------+-----------------+-----------------------+----------------+-------------------------+------------------------------+-----------------------------+-----------------------------------+-------------------------------------+----------------+----------+------------------+----------+-------------+-------------+--------------+---------------+---------------------+-------------------+--------------+------------+----------------------+--------------------------+---------------+-----------------------+----------------+\n",
            "|iso_code|continent|   location|      date|total_cases|new_cases|new_cases_smoothed|total_deaths|new_deaths|new_deaths_smoothed|total_cases_per_million|new_cases_per_million|new_cases_smoothed_per_million|total_deaths_per_million|new_deaths_per_million|new_deaths_smoothed_per_million|reproduction_rate|icu_patients|icu_patients_per_million|hosp_patients|hosp_patients_per_million|weekly_icu_admissions|weekly_icu_admissions_per_million|weekly_hosp_admissions|weekly_hosp_admissions_per_million|new_tests|total_tests|total_tests_per_thousand|new_tests_per_thousand|new_tests_smoothed|new_tests_smoothed_per_thousand|positive_rate|tests_per_case|tests_units|total_vaccinations|people_vaccinated|people_fully_vaccinated|new_vaccinations|new_vaccinations_smoothed|total_vaccinations_per_hundred|people_vaccinated_per_hundred|people_fully_vaccinated_per_hundred|new_vaccinations_smoothed_per_million|stringency_index|population|population_density|median_age|aged_65_older|aged_70_older|gdp_per_capita|extreme_poverty|cardiovasc_death_rate|diabetes_prevalence|female_smokers|male_smokers|handwashing_facilities|hospital_beds_per_thousand|life_expectancy|human_development_index|excess_mortality|\n",
            "+--------+---------+-----------+----------+-----------+---------+------------------+------------+----------+-------------------+-----------------------+---------------------+------------------------------+------------------------+----------------------+-------------------------------+-----------------+------------+------------------------+-------------+-------------------------+---------------------+---------------------------------+----------------------+----------------------------------+---------+-----------+------------------------+----------------------+------------------+-------------------------------+-------------+--------------+-----------+------------------+-----------------+-----------------------+----------------+-------------------------+------------------------------+-----------------------------+-----------------------------------+-------------------------------------+----------------+----------+------------------+----------+-------------+-------------+--------------+---------------+---------------------+-------------------+--------------+------------+----------------------+--------------------------+---------------+-----------------------+----------------+\n",
            "|     AFG|     Asia|Afghanistan|2020-02-24|        1.0|      1.0|              null|        null|      null|               null|                  0.026|                0.026|                          null|                    null|                  null|                           null|             null|        null|                    null|         null|                     null|                 null|                             null|                  null|                              null|     null|       null|                    null|                  null|              null|                           null|         null|          null|       null|              null|             null|                   null|            null|                     null|                          null|                         null|                               null|                                 null|            8.33|38928341.0|            54.422|      18.6|        2.581|        1.337|      1803.987|           null|              597.029|               9.59|          null|        null|                37.746|                       0.5|          64.83|                  0.511|            null|\n",
            "|     AFG|     Asia|Afghanistan|2020-02-25|        1.0|      0.0|              null|        null|      null|               null|                  0.026|                  0.0|                          null|                    null|                  null|                           null|             null|        null|                    null|         null|                     null|                 null|                             null|                  null|                              null|     null|       null|                    null|                  null|              null|                           null|         null|          null|       null|              null|             null|                   null|            null|                     null|                          null|                         null|                               null|                                 null|            8.33|38928341.0|            54.422|      18.6|        2.581|        1.337|      1803.987|           null|              597.029|               9.59|          null|        null|                37.746|                       0.5|          64.83|                  0.511|            null|\n",
            "|     AFG|     Asia|Afghanistan|2020-02-26|        1.0|      0.0|              null|        null|      null|               null|                  0.026|                  0.0|                          null|                    null|                  null|                           null|             null|        null|                    null|         null|                     null|                 null|                             null|                  null|                              null|     null|       null|                    null|                  null|              null|                           null|         null|          null|       null|              null|             null|                   null|            null|                     null|                          null|                         null|                               null|                                 null|            8.33|38928341.0|            54.422|      18.6|        2.581|        1.337|      1803.987|           null|              597.029|               9.59|          null|        null|                37.746|                       0.5|          64.83|                  0.511|            null|\n",
            "|     AFG|     Asia|Afghanistan|2020-02-27|        1.0|      0.0|              null|        null|      null|               null|                  0.026|                  0.0|                          null|                    null|                  null|                           null|             null|        null|                    null|         null|                     null|                 null|                             null|                  null|                              null|     null|       null|                    null|                  null|              null|                           null|         null|          null|       null|              null|             null|                   null|            null|                     null|                          null|                         null|                               null|                                 null|            8.33|38928341.0|            54.422|      18.6|        2.581|        1.337|      1803.987|           null|              597.029|               9.59|          null|        null|                37.746|                       0.5|          64.83|                  0.511|            null|\n",
            "|     AFG|     Asia|Afghanistan|2020-02-28|        1.0|      0.0|              null|        null|      null|               null|                  0.026|                  0.0|                          null|                    null|                  null|                           null|             null|        null|                    null|         null|                     null|                 null|                             null|                  null|                              null|     null|       null|                    null|                  null|              null|                           null|         null|          null|       null|              null|             null|                   null|            null|                     null|                          null|                         null|                               null|                                 null|            8.33|38928341.0|            54.422|      18.6|        2.581|        1.337|      1803.987|           null|              597.029|               9.59|          null|        null|                37.746|                       0.5|          64.83|                  0.511|            null|\n",
            "|     AFG|     Asia|Afghanistan|2020-02-29|        1.0|      0.0|             0.143|        null|      null|                0.0|                  0.026|                  0.0|                         0.004|                    null|                  null|                            0.0|             null|        null|                    null|         null|                     null|                 null|                             null|                  null|                              null|     null|       null|                    null|                  null|              null|                           null|         null|          null|       null|              null|             null|                   null|            null|                     null|                          null|                         null|                               null|                                 null|            8.33|38928341.0|            54.422|      18.6|        2.581|        1.337|      1803.987|           null|              597.029|               9.59|          null|        null|                37.746|                       0.5|          64.83|                  0.511|            null|\n",
            "|     AFG|     Asia|Afghanistan|2020-03-01|        1.0|      0.0|             0.143|        null|      null|                0.0|                  0.026|                  0.0|                         0.004|                    null|                  null|                            0.0|             null|        null|                    null|         null|                     null|                 null|                             null|                  null|                              null|     null|       null|                    null|                  null|              null|                           null|         null|          null|       null|              null|             null|                   null|            null|                     null|                          null|                         null|                               null|                                 null|           27.78|38928341.0|            54.422|      18.6|        2.581|        1.337|      1803.987|           null|              597.029|               9.59|          null|        null|                37.746|                       0.5|          64.83|                  0.511|            null|\n",
            "|     AFG|     Asia|Afghanistan|2020-03-02|        1.0|      0.0|               0.0|        null|      null|                0.0|                  0.026|                  0.0|                           0.0|                    null|                  null|                            0.0|             null|        null|                    null|         null|                     null|                 null|                             null|                  null|                              null|     null|       null|                    null|                  null|              null|                           null|         null|          null|       null|              null|             null|                   null|            null|                     null|                          null|                         null|                               null|                                 null|           27.78|38928341.0|            54.422|      18.6|        2.581|        1.337|      1803.987|           null|              597.029|               9.59|          null|        null|                37.746|                       0.5|          64.83|                  0.511|            null|\n",
            "|     AFG|     Asia|Afghanistan|2020-03-03|        2.0|      1.0|             0.143|        null|      null|                0.0|                  0.051|                0.026|                         0.004|                    null|                  null|                            0.0|             null|        null|                    null|         null|                     null|                 null|                             null|                  null|                              null|     null|       null|                    null|                  null|              null|                           null|         null|          null|       null|              null|             null|                   null|            null|                     null|                          null|                         null|                               null|                                 null|           27.78|38928341.0|            54.422|      18.6|        2.581|        1.337|      1803.987|           null|              597.029|               9.59|          null|        null|                37.746|                       0.5|          64.83|                  0.511|            null|\n",
            "|     AFG|     Asia|Afghanistan|2020-03-04|        4.0|      2.0|             0.429|        null|      null|                0.0|                  0.103|                0.051|                         0.011|                    null|                  null|                            0.0|             null|        null|                    null|         null|                     null|                 null|                             null|                  null|                              null|     null|       null|                    null|                  null|              null|                           null|         null|          null|       null|              null|             null|                   null|            null|                     null|                          null|                         null|                               null|                                 null|           27.78|38928341.0|            54.422|      18.6|        2.581|        1.337|      1803.987|           null|              597.029|               9.59|          null|        null|                37.746|                       0.5|          64.83|                  0.511|            null|\n",
            "|     AFG|     Asia|Afghanistan|2020-03-05|        4.0|      0.0|             0.429|        null|      null|                0.0|                  0.103|                  0.0|                         0.011|                    null|                  null|                            0.0|             null|        null|                    null|         null|                     null|                 null|                             null|                  null|                              null|     null|       null|                    null|                  null|              null|                           null|         null|          null|       null|              null|             null|                   null|            null|                     null|                          null|                         null|                               null|                                 null|           27.78|38928341.0|            54.422|      18.6|        2.581|        1.337|      1803.987|           null|              597.029|               9.59|          null|        null|                37.746|                       0.5|          64.83|                  0.511|            null|\n",
            "|     AFG|     Asia|Afghanistan|2020-03-06|        4.0|      0.0|             0.429|        null|      null|                0.0|                  0.103|                  0.0|                         0.011|                    null|                  null|                            0.0|             null|        null|                    null|         null|                     null|                 null|                             null|                  null|                              null|     null|       null|                    null|                  null|              null|                           null|         null|          null|       null|              null|             null|                   null|            null|                     null|                          null|                         null|                               null|                                 null|           27.78|38928341.0|            54.422|      18.6|        2.581|        1.337|      1803.987|           null|              597.029|               9.59|          null|        null|                37.746|                       0.5|          64.83|                  0.511|            null|\n",
            "|     AFG|     Asia|Afghanistan|2020-03-07|        4.0|      0.0|             0.429|        null|      null|                0.0|                  0.103|                  0.0|                         0.011|                    null|                  null|                            0.0|             null|        null|                    null|         null|                     null|                 null|                             null|                  null|                              null|     null|       null|                    null|                  null|              null|                           null|         null|          null|       null|              null|             null|                   null|            null|                     null|                          null|                         null|                               null|                                 null|           27.78|38928341.0|            54.422|      18.6|        2.581|        1.337|      1803.987|           null|              597.029|               9.59|          null|        null|                37.746|                       0.5|          64.83|                  0.511|            null|\n",
            "|     AFG|     Asia|Afghanistan|2020-03-08|        5.0|      1.0|             0.571|        null|      null|                0.0|                  0.128|                0.026|                         0.015|                    null|                  null|                            0.0|             null|        null|                    null|         null|                     null|                 null|                             null|                  null|                              null|     null|       null|                    null|                  null|              null|                           null|         null|          null|       null|              null|             null|                   null|            null|                     null|                          null|                         null|                               null|                                 null|           27.78|38928341.0|            54.422|      18.6|        2.581|        1.337|      1803.987|           null|              597.029|               9.59|          null|        null|                37.746|                       0.5|          64.83|                  0.511|            null|\n",
            "|     AFG|     Asia|Afghanistan|2020-03-09|        7.0|      2.0|             0.857|        null|      null|                0.0|                   0.18|                0.051|                         0.022|                    null|                  null|                            0.0|             null|        null|                    null|         null|                     null|                 null|                             null|                  null|                              null|     null|       null|                    null|                  null|              null|                           null|         null|          null|       null|              null|             null|                   null|            null|                     null|                          null|                         null|                               null|                                 null|           27.78|38928341.0|            54.422|      18.6|        2.581|        1.337|      1803.987|           null|              597.029|               9.59|          null|        null|                37.746|                       0.5|          64.83|                  0.511|            null|\n",
            "|     AFG|     Asia|Afghanistan|2020-03-10|        8.0|      1.0|             0.857|        null|      null|                0.0|                  0.206|                0.026|                         0.022|                    null|                  null|                            0.0|             null|        null|                    null|         null|                     null|                 null|                             null|                  null|                              null|     null|       null|                    null|                  null|              null|                           null|         null|          null|       null|              null|             null|                   null|            null|                     null|                          null|                         null|                               null|                                 null|           27.78|38928341.0|            54.422|      18.6|        2.581|        1.337|      1803.987|           null|              597.029|               9.59|          null|        null|                37.746|                       0.5|          64.83|                  0.511|            null|\n",
            "|     AFG|     Asia|Afghanistan|2020-03-11|       11.0|      3.0|               1.0|        null|      null|                0.0|                  0.283|                0.077|                         0.026|                    null|                  null|                            0.0|             null|        null|                    null|         null|                     null|                 null|                             null|                  null|                              null|     null|       null|                    null|                  null|              null|                           null|         null|          null|       null|              null|             null|                   null|            null|                     null|                          null|                         null|                               null|                                 null|           27.78|38928341.0|            54.422|      18.6|        2.581|        1.337|      1803.987|           null|              597.029|               9.59|          null|        null|                37.746|                       0.5|          64.83|                  0.511|            null|\n",
            "|     AFG|     Asia|Afghanistan|2020-03-12|       12.0|      1.0|             1.143|        null|      null|                0.0|                  0.308|                0.026|                         0.029|                    null|                  null|                            0.0|             null|        null|                    null|         null|                     null|                 null|                             null|                  null|                              null|     null|       null|                    null|                  null|              null|                           null|         null|          null|       null|              null|             null|                   null|            null|                     null|                          null|                         null|                               null|                                 null|           27.78|38928341.0|            54.422|      18.6|        2.581|        1.337|      1803.987|           null|              597.029|               9.59|          null|        null|                37.746|                       0.5|          64.83|                  0.511|            null|\n",
            "|     AFG|     Asia|Afghanistan|2020-03-13|       13.0|      1.0|             1.286|        null|      null|                0.0|                  0.334|                0.026|                         0.033|                    null|                  null|                            0.0|             null|        null|                    null|         null|                     null|                 null|                             null|                  null|                              null|     null|       null|                    null|                  null|              null|                           null|         null|          null|       null|              null|             null|                   null|            null|                     null|                          null|                         null|                               null|                                 null|           27.78|38928341.0|            54.422|      18.6|        2.581|        1.337|      1803.987|           null|              597.029|               9.59|          null|        null|                37.746|                       0.5|          64.83|                  0.511|            null|\n",
            "|     AFG|     Asia|Afghanistan|2020-03-14|       15.0|      2.0|             1.571|        null|      null|                0.0|                  0.385|                0.051|                          0.04|                    null|                  null|                            0.0|             null|        null|                    null|         null|                     null|                 null|                             null|                  null|                              null|     null|       null|                    null|                  null|              null|                           null|         null|          null|       null|              null|             null|                   null|            null|                     null|                          null|                         null|                               null|                                 null|           38.89|38928341.0|            54.422|      18.6|        2.581|        1.337|      1803.987|           null|              597.029|               9.59|          null|        null|                37.746|                       0.5|          64.83|                  0.511|            null|\n",
            "+--------+---------+-----------+----------+-----------+---------+------------------+------------+----------+-------------------+-----------------------+---------------------+------------------------------+------------------------+----------------------+-------------------------------+-----------------+------------+------------------------+-------------+-------------------------+---------------------+---------------------------------+----------------------+----------------------------------+---------+-----------+------------------------+----------------------+------------------+-------------------------------+-------------+--------------+-----------+------------------+-----------------+-----------------------+----------------+-------------------------+------------------------------+-----------------------------+-----------------------------------+-------------------------------------+----------------+----------+------------------+----------+-------------+-------------+--------------+---------------+---------------------+-------------------+--------------+------------+----------------------+--------------------------+---------------+-----------------------+----------------+\n",
            "only showing top 20 rows\n",
            "\n"
          ],
          "name": "stdout"
        }
      ]
    },
    {
      "cell_type": "markdown",
      "metadata": {
        "id": "XhP-JfBPyi3j"
      },
      "source": [
        "**8 - Analise das informações e resultados obtidos**\n"
      ]
    },
    {
      "cell_type": "code",
      "metadata": {
        "id": "EcIoWB3V0gmu"
      },
      "source": [
        "import pandas as pd\n",
        "#Declara tabela temporaria no SparkSQL\n",
        "df.createOrReplaceTempView(\"df\")"
      ],
      "execution_count": 33,
      "outputs": []
    },
    {
      "cell_type": "code",
      "metadata": {
        "id": "DU6IL16T0uaZ",
        "colab": {
          "base_uri": "https://localhost:8080/",
          "height": 235
        },
        "outputId": "acd0cbd2-e4c4-4dfe-8dbb-6a635ff87277"
      },
      "source": [
        "#Total de casos por continente\n",
        "dfCasesContinent = spark.sql(\"select continent, cast(sum(new_cases) as int) as total from df where total_cases is not null and continent is not null group by continent\")\n",
        "dfPandasCasesContinent = dfCasesContinent.select(\"*\").toPandas()\n",
        "dfPandasCasesContinent"
      ],
      "execution_count": 173,
      "outputs": [
        {
          "output_type": "execute_result",
          "data": {
            "text/html": [
              "<div>\n",
              "<style scoped>\n",
              "    .dataframe tbody tr th:only-of-type {\n",
              "        vertical-align: middle;\n",
              "    }\n",
              "\n",
              "    .dataframe tbody tr th {\n",
              "        vertical-align: top;\n",
              "    }\n",
              "\n",
              "    .dataframe thead th {\n",
              "        text-align: right;\n",
              "    }\n",
              "</style>\n",
              "<table border=\"1\" class=\"dataframe\">\n",
              "  <thead>\n",
              "    <tr style=\"text-align: right;\">\n",
              "      <th></th>\n",
              "      <th>continent</th>\n",
              "      <th>total</th>\n",
              "    </tr>\n",
              "  </thead>\n",
              "  <tbody>\n",
              "    <tr>\n",
              "      <th>0</th>\n",
              "      <td>Europe</td>\n",
              "      <td>48540929</td>\n",
              "    </tr>\n",
              "    <tr>\n",
              "      <th>1</th>\n",
              "      <td>Africa</td>\n",
              "      <td>5465752</td>\n",
              "    </tr>\n",
              "    <tr>\n",
              "      <th>2</th>\n",
              "      <td>North America</td>\n",
              "      <td>39650721</td>\n",
              "    </tr>\n",
              "    <tr>\n",
              "      <th>3</th>\n",
              "      <td>South America</td>\n",
              "      <td>32772980</td>\n",
              "    </tr>\n",
              "    <tr>\n",
              "      <th>4</th>\n",
              "      <td>Oceania</td>\n",
              "      <td>54621</td>\n",
              "    </tr>\n",
              "    <tr>\n",
              "      <th>5</th>\n",
              "      <td>Asia</td>\n",
              "      <td>54849691</td>\n",
              "    </tr>\n",
              "  </tbody>\n",
              "</table>\n",
              "</div>"
            ],
            "text/plain": [
              "       continent     total\n",
              "0         Europe  48540929\n",
              "1         Africa   5465752\n",
              "2  North America  39650721\n",
              "3  South America  32772980\n",
              "4        Oceania     54621\n",
              "5           Asia  54849691"
            ]
          },
          "metadata": {
            "tags": []
          },
          "execution_count": 173
        }
      ]
    },
    {
      "cell_type": "code",
      "metadata": {
        "colab": {
          "base_uri": "https://localhost:8080/",
          "height": 493
        },
        "id": "AjdtSFJsmik6",
        "outputId": "841cd9d2-efee-40d4-ac75-e84ceab2c7fb"
      },
      "source": [
        "#Total de mortes por continente\n",
        "dfDeathsContinent = spark.sql(\"select continent, cast(sum(new_deaths) as int) as total from df where new_deaths is not null and continent is not null group by continent\")\n",
        "dfPandasDeathsContinent = dfDeathsContinent.select(\"*\").toPandas()\n",
        "dfPandasDeathsContinent.plot(x ='continent', y='total', kind = 'bar',figsize=(12,6))"
      ],
      "execution_count": 160,
      "outputs": [
        {
          "output_type": "execute_result",
          "data": {
            "text/plain": [
              "<matplotlib.axes._subplots.AxesSubplot at 0x7fa134e1f990>"
            ]
          },
          "metadata": {
            "tags": []
          },
          "execution_count": 160
        },
        {
          "output_type": "display_data",
          "data": {
            "image/png": "[encoded data removed]",
            "text/plain": [
              "<Figure size 864x432 with 1 Axes>"
            ]
          },
          "metadata": {
            "tags": []
          }
        }
      ]
    },
    {
      "cell_type": "code",
      "metadata": {
        "colab": {
          "base_uri": "https://localhost:8080/",
          "height": 459
        },
        "id": "gWWwXdWE6T52",
        "outputId": "2a39aa49-1559-4955-bb9d-613463c58538"
      },
      "source": [
        "import seaborn as sns\n",
        "sns.set_theme(style=\"whitegrid\")\n",
        "tips = dfPandasDeathsContinent\n",
        "sns.set(font_scale=0.9)\n",
        "plt.figure(figsize=(9, 7))\n",
        "ax = sns.barplot(x=\"continent\", y=\"total\", data=tips)\n",
        "ax.set(xlabel=\"\", ylabel = \"\")"
      ],
      "execution_count": 179,
      "outputs": [
        {
          "output_type": "execute_result",
          "data": {
            "text/plain": [
              "[Text(0, 0.5, ''), Text(0.5, 0, '')]"
            ]
          },
          "metadata": {
            "tags": []
          },
          "execution_count": 179
        },
        {
          "output_type": "display_data",
          "data": {
            "image/png": "[encoded data removed]",
            "text/plain": [
              "<Figure size 648x504 with 1 Axes>"
            ]
          },
          "metadata": {
            "tags": []
          }
        }
      ]
    },
    {
      "cell_type": "code",
      "metadata": {
        "colab": {
          "base_uri": "https://localhost:8080/",
          "height": 296
        },
        "id": "TUDlh--ooE3M",
        "outputId": "6e28a7e0-1e26-4bd3-e81f-2dcc909d2ff2"
      },
      "source": [
        "#Total de mortes por mês não acumulado\n",
        "dfMostDeathsMonth = spark.sql(\"select substring(date, 1,7) as date,sum(new_deaths)+17 as total  from df where date is not null and new_deaths is not null and continent is not null group by substring(date, 1,7) order by substring(date, 1,7)\")\n",
        "dfPandasMostDeathsMonth = dfMostDeathsMonth.select(\"*\").toPandas()\n",
        "dfPandasMostDeathsMonth.plot(x ='date', y='total', kind = 'line')\n",
        "\n",
        "\n"
      ],
      "execution_count": 134,
      "outputs": [
        {
          "output_type": "execute_result",
          "data": {
            "text/plain": [
              "<matplotlib.axes._subplots.AxesSubplot at 0x7fa1442e04d0>"
            ]
          },
          "metadata": {
            "tags": []
          },
          "execution_count": 134
        },
        {
          "output_type": "display_data",
          "data": {
            "image/png": "[encoded data removed]",
            "text/plain": [
              "<Figure size 432x288 with 1 Axes>"
            ]
          },
          "metadata": {
            "tags": [],
            "needs_background": "light"
          }
        }
      ]
    },
    {
      "cell_type": "code",
      "metadata": {
        "colab": {
          "base_uri": "https://localhost:8080/",
          "height": 80
        },
        "id": "EoGy-7mstVtK",
        "outputId": "57d0447e-a8f3-4f79-abae-ae7becf54116"
      },
      "source": [
        "#Total de mortes geral\n",
        "dfMostDeathsGeneral = spark.sql(\"select sum(new_deaths) from df where new_deaths is not null and continent is not null \")\n",
        "dfPandasMostDeathsGeneral = dfMostDeathsGeneral.select(\"*\").toPandas()\n",
        "dfPandasMostDeathsGeneral"
      ],
      "execution_count": 105,
      "outputs": [
        {
          "output_type": "execute_result",
          "data": {
            "text/html": [
              "<div>\n",
              "<style scoped>\n",
              "    .dataframe tbody tr th:only-of-type {\n",
              "        vertical-align: middle;\n",
              "    }\n",
              "\n",
              "    .dataframe tbody tr th {\n",
              "        vertical-align: top;\n",
              "    }\n",
              "\n",
              "    .dataframe thead th {\n",
              "        text-align: right;\n",
              "    }\n",
              "</style>\n",
              "<table border=\"1\" class=\"dataframe\">\n",
              "  <thead>\n",
              "    <tr style=\"text-align: right;\">\n",
              "      <th></th>\n",
              "      <th>sum(CAST(new_deaths AS DOUBLE))</th>\n",
              "    </tr>\n",
              "  </thead>\n",
              "  <tbody>\n",
              "    <tr>\n",
              "      <th>0</th>\n",
              "      <td>3937836.0</td>\n",
              "    </tr>\n",
              "  </tbody>\n",
              "</table>\n",
              "</div>"
            ],
            "text/plain": [
              "   sum(CAST(new_deaths AS DOUBLE))\n",
              "0                        3937836.0"
            ]
          },
          "metadata": {
            "tags": []
          },
          "execution_count": 105
        }
      ]
    },
    {
      "cell_type": "code",
      "metadata": {
        "colab": {
          "base_uri": "https://localhost:8080/",
          "height": 448
        },
        "id": "WUfmtbYxwBL3",
        "outputId": "a448b1d9-1a4c-418c-f352-88d4fad2e196"
      },
      "source": [
        "#Top 10 países com mais mortes totais\n",
        "dfTopLocationDeaths = spark.sql(\"select location,sum(new_deaths) total from df where new_deaths is not null and continent is not null group by location order by sum(new_deaths) desc limit 10 \")\n",
        "dfPandasTopLocationDeaths = dfTopLocationDeaths.select(\"*\").toPandas()\n",
        "dfPandasTopLocationDeaths\n",
        "\n",
        "import seaborn as sns\n",
        "sns.set_theme(style=\"whitegrid\")\n",
        "tips = dfPandasTopLocationDeaths\n",
        "sns.set(font_scale=1)\n",
        "plt.figure(figsize=(9, 7))\n",
        "ax = sns.barplot(x=\"location\", y=\"total\", data=tips)\n",
        "ax.set(xlabel=\"\", ylabel = \"\")"
      ],
      "execution_count": 165,
      "outputs": [
        {
          "output_type": "execute_result",
          "data": {
            "text/plain": [
              "[Text(0, 0.5, ''), Text(0.5, 0, '')]"
            ]
          },
          "metadata": {
            "tags": []
          },
          "execution_count": 165
        },
        {
          "output_type": "display_data",
          "data": {
            "image/png": "[encoded data removed]",
            "text/plain": [
              "<Figure size 648x504 with 1 Axes>"
            ]
          },
          "metadata": {
            "tags": []
          }
        }
      ]
    }
  ]
}
