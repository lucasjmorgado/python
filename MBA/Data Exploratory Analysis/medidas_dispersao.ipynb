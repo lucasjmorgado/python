{
  "nbformat": 4,
  "nbformat_minor": 0,
  "metadata": {
    "colab": {
      "name": "LUCAS_medidas_dispersao.ipynb",
      "provenance": [],
      "collapsed_sections": []
    },
    "kernelspec": {
      "display_name": "Python 3",
      "name": "python3"
    },
    "language_info": {
      "name": "python"
    }
  },
  "cells": [
    {
      "cell_type": "code",
      "metadata": {
        "id": "TckZ7tz7IznH"
      },
      "source": [
        "\"\"\"\n",
        "Utilizando média e medidas de dispersão, faça o seguinte para a base de nascidos vivos de SE em 2017:\n",
        "Compare as idades das mães que fizeram cesárea e das mães que fizeram parto normal\n",
        "Compare o peso da criança ao nascer das mães que fizeram cesárea e das mães que fizeram parto normal\n",
        "Compare o peso da criança ao nascer para as diferentes categorias de consultas pré-natal\n",
        "Compare quantidade de filhos vivos e mortos em relação ao tipo de gravidez (única, dupla, tripla ou mais)\n",
        "Compare a quantidade total de gravidezes (filhos vivos + filhos mortos) em relação a escolaridade\n",
        "\"\"\""
      ],
      "execution_count": null,
      "outputs": []
    },
    {
      "cell_type": "code",
      "metadata": {
        "colab": {
          "base_uri": "https://localhost:8080/"
        },
        "id": "15zhu5zCKb2P",
        "outputId": "30eab081-f699-443e-f5ca-f9e61f093876"
      },
      "source": [
        "from google.colab import drive\n",
        "drive.mount('/content/drive')"
      ],
      "execution_count": 3,
      "outputs": [
        {
          "output_type": "stream",
          "text": [
            "Mounted at /content/drive\n"
          ],
          "name": "stdout"
        }
      ]
    },
    {
      "cell_type": "code",
      "metadata": {
        "id": "euaXJPpT-5h9"
      },
      "source": [
        "import pandas as pd\n",
        "\n",
        "caminhoArquivo = '/content/drive/MyDrive/py/DNSE2017.csv'\n",
        "\n",
        "# ler arquivo DBC dos nascidos vivos em 2017 em SE\n",
        "sinasc = pd.read_csv(caminhoArquivo, dtype=str)"
      ],
      "execution_count": 92,
      "outputs": []
    },
    {
      "cell_type": "code",
      "metadata": {
        "id": "f9t4Y1ay_EdA"
      },
      "source": [
        "sinasc['PESO'] = pd.to_numeric(sinasc['PESO'])\n",
        "sinasc['IDADEMAE'] = pd.to_numeric(sinasc['IDADEMAE'])\n",
        "sinasc['IDADEPAI'] = pd.to_numeric(sinasc['IDADEPAI'])\n",
        "sinasc['APGAR1'] = pd.to_numeric(sinasc['APGAR1'])\n",
        "sinasc['APGAR5'] = pd.to_numeric(sinasc['APGAR5'])\n",
        "sinasc['QTDFILVIVO'] = pd.to_numeric(sinasc['QTDFILVIVO']).astype(pd.Int64Dtype())\n",
        "sinasc['QTDFILMORT'] = pd.to_numeric(sinasc['QTDFILMORT']).astype(pd.Int64Dtype())\n",
        "sinasc['SEMAGESTAC'] = pd.to_numeric(sinasc['SEMAGESTAC']).astype(pd.Int64Dtype())\n",
        "sinasc['CONSPRENAT'] = pd.to_numeric(sinasc['CONSPRENAT']).astype(pd.Int64Dtype())\n",
        "sinasc['SERIESCMAE'] = pd.to_numeric(sinasc['SERIESCMAE']).astype(pd.Int64Dtype())\n",
        "sinasc['QTDPARTCES'] = pd.to_numeric(sinasc['QTDPARTCES']).astype(pd.Int64Dtype())\n",
        "sinasc['QTDPARTNOR'] = pd.to_numeric(sinasc['QTDPARTNOR']).astype(pd.Int64Dtype())\n",
        "sinasc['QTDGESTANT'] = pd.to_numeric(sinasc['QTDGESTANT']).astype(pd.Int64Dtype())\n"
      ],
      "execution_count": 95,
      "outputs": []
    },
    {
      "cell_type": "markdown",
      "metadata": {
        "id": "OqD4DvqpQTpB"
      },
      "source": [
        "Compare as idades das mães que fizeram cesárea e das mães que fizeram parto normal\n"
      ]
    },
    {
      "cell_type": "code",
      "metadata": {
        "id": "QtiZaGHrDXNF"
      },
      "source": [
        "# filtro de mães que fizeram parto normal e cesares\n",
        "normal = sinasc[sinasc.PARTO == '1']\n",
        "cesarea = sinasc[sinasc.PARTO == '2']"
      ],
      "execution_count": 96,
      "outputs": []
    },
    {
      "cell_type": "code",
      "metadata": {
        "colab": {
          "base_uri": "https://localhost:8080/"
        },
        "id": "Lh8i1hhWD4Tl",
        "outputId": "0e118dcd-37ad-4a1f-8ba7-22f1b4a8fbed"
      },
      "source": [
        "#Média\n",
        "mediaNormal = normal.IDADEMAE.mean()\n",
        "mediaCesarea = cesarea.IDADEMAE.mean()\n",
        "mediaNormal, mediaCesarea"
      ],
      "execution_count": 28,
      "outputs": [
        {
          "output_type": "execute_result",
          "data": {
            "text/plain": [
              "(24.98357030015798, 27.634743425919698)"
            ]
          },
          "metadata": {
            "tags": []
          },
          "execution_count": 28
        }
      ]
    },
    {
      "cell_type": "code",
      "metadata": {
        "colab": {
          "base_uri": "https://localhost:8080/"
        },
        "id": "VyvdEzitEYgR",
        "outputId": "01eb7895-cf21-46d4-def2-08e3e14be26a"
      },
      "source": [
        "#Desvio Padrão\n",
        "dp_normal = normal.IDADEMAE.std()\n",
        "dp_cesarea = cesarea.IDADEMAE.std()\n",
        "dp_normal, dp_cesarea"
      ],
      "execution_count": 29,
      "outputs": [
        {
          "output_type": "execute_result",
          "data": {
            "text/plain": [
              "(6.7131238327425935, 6.732200555321305)"
            ]
          },
          "metadata": {
            "tags": []
          },
          "execution_count": 29
        }
      ]
    },
    {
      "cell_type": "code",
      "metadata": {
        "colab": {
          "base_uri": "https://localhost:8080/"
        },
        "id": "mbNSadIFEpx-",
        "outputId": "707930d7-87cb-4c38-88ce-cd10a0f1aebd"
      },
      "source": [
        "# Intervalo inter-quartil\n",
        "q_normal = normal.IDADEMAE.quantile([0.25, 0.75]).values\n",
        "q_cesarea = cesarea.IDADEMAE.quantile([0.25, 0.75]).values\n",
        "q_normal[1]-q_normal[0], q_cesarea[1]-q_cesarea[0]"
      ],
      "execution_count": 30,
      "outputs": [
        {
          "output_type": "execute_result",
          "data": {
            "text/plain": [
              "(10.0, 11.0)"
            ]
          },
          "metadata": {
            "tags": []
          },
          "execution_count": 30
        }
      ]
    },
    {
      "cell_type": "code",
      "metadata": {
        "colab": {
          "base_uri": "https://localhost:8080/"
        },
        "id": "FJqPNMQBFm9D",
        "outputId": "30dabbfe-1aba-410c-c87c-df2867871e65"
      },
      "source": [
        "# coeficiente de variacao\n",
        "dp_normal*100/mediaNormal, dp_cesarea*100/mediaCesarea"
      ],
      "execution_count": 31,
      "outputs": [
        {
          "output_type": "execute_result",
          "data": {
            "text/plain": [
              "(26.870154073615907, 24.361364430135843)"
            ]
          },
          "metadata": {
            "tags": []
          },
          "execution_count": 31
        }
      ]
    },
    {
      "cell_type": "code",
      "metadata": {
        "colab": {
          "base_uri": "https://localhost:8080/",
          "height": 421
        },
        "id": "eoUtJuJ2f5VS",
        "outputId": "5f3b34cc-f40c-434b-e08f-7b457acc48b4"
      },
      "source": [
        "intervalos = pd.cut(sinasc.IDADEMAE,[0, 9, 14, 19, 24, 29, 34, 39, 44, 49, 54, 59])\n",
        "faixa_etaria = sinasc.IDADEMAE.groupby(intervalos)\n",
        "\n",
        "freq_rel = lambda x: x.count()*100/sinasc.IDADEMAE.count()\n",
        "\n",
        "dist_faixa_etaria = faixa_etaria.agg(['count',freq_rel])\n",
        "dist_faixa_etaria"
      ],
      "execution_count": 32,
      "outputs": [
        {
          "output_type": "execute_result",
          "data": {
            "text/html": [
              "<div>\n",
              "<style scoped>\n",
              "    .dataframe tbody tr th:only-of-type {\n",
              "        vertical-align: middle;\n",
              "    }\n",
              "\n",
              "    .dataframe tbody tr th {\n",
              "        vertical-align: top;\n",
              "    }\n",
              "\n",
              "    .dataframe thead th {\n",
              "        text-align: right;\n",
              "    }\n",
              "</style>\n",
              "<table border=\"1\" class=\"dataframe\">\n",
              "  <thead>\n",
              "    <tr style=\"text-align: right;\">\n",
              "      <th></th>\n",
              "      <th>count</th>\n",
              "      <th>&lt;lambda_0&gt;</th>\n",
              "    </tr>\n",
              "    <tr>\n",
              "      <th>IDADEMAE</th>\n",
              "      <th></th>\n",
              "      <th></th>\n",
              "    </tr>\n",
              "  </thead>\n",
              "  <tbody>\n",
              "    <tr>\n",
              "      <th>(0, 9]</th>\n",
              "      <td>0</td>\n",
              "      <td>NaN</td>\n",
              "    </tr>\n",
              "    <tr>\n",
              "      <th>(9, 14]</th>\n",
              "      <td>331</td>\n",
              "      <td>0.977353</td>\n",
              "    </tr>\n",
              "    <tr>\n",
              "      <th>(14, 19]</th>\n",
              "      <td>6325</td>\n",
              "      <td>18.675997</td>\n",
              "    </tr>\n",
              "    <tr>\n",
              "      <th>(19, 24]</th>\n",
              "      <td>8609</td>\n",
              "      <td>25.420025</td>\n",
              "    </tr>\n",
              "    <tr>\n",
              "      <th>(24, 29]</th>\n",
              "      <td>7542</td>\n",
              "      <td>22.269466</td>\n",
              "    </tr>\n",
              "    <tr>\n",
              "      <th>(29, 34]</th>\n",
              "      <td>6491</td>\n",
              "      <td>19.166150</td>\n",
              "    </tr>\n",
              "    <tr>\n",
              "      <th>(34, 39]</th>\n",
              "      <td>3613</td>\n",
              "      <td>10.668202</td>\n",
              "    </tr>\n",
              "    <tr>\n",
              "      <th>(39, 44]</th>\n",
              "      <td>904</td>\n",
              "      <td>2.669265</td>\n",
              "    </tr>\n",
              "    <tr>\n",
              "      <th>(44, 49]</th>\n",
              "      <td>50</td>\n",
              "      <td>0.147636</td>\n",
              "    </tr>\n",
              "    <tr>\n",
              "      <th>(49, 54]</th>\n",
              "      <td>2</td>\n",
              "      <td>0.005905</td>\n",
              "    </tr>\n",
              "    <tr>\n",
              "      <th>(54, 59]</th>\n",
              "      <td>0</td>\n",
              "      <td>NaN</td>\n",
              "    </tr>\n",
              "  </tbody>\n",
              "</table>\n",
              "</div>"
            ],
            "text/plain": [
              "          count  <lambda_0>\n",
              "IDADEMAE                   \n",
              "(0, 9]        0         NaN\n",
              "(9, 14]     331    0.977353\n",
              "(14, 19]   6325   18.675997\n",
              "(19, 24]   8609   25.420025\n",
              "(24, 29]   7542   22.269466\n",
              "(29, 34]   6491   19.166150\n",
              "(34, 39]   3613   10.668202\n",
              "(39, 44]    904    2.669265\n",
              "(44, 49]     50    0.147636\n",
              "(49, 54]      2    0.005905\n",
              "(54, 59]      0         NaN"
            ]
          },
          "metadata": {
            "tags": []
          },
          "execution_count": 32
        }
      ]
    },
    {
      "cell_type": "markdown",
      "metadata": {
        "id": "GhK1ZKrfQezE"
      },
      "source": [
        "Compare o peso da criança ao nascer das mães que fizeram cesárea e das mães que fizeram parto normal"
      ]
    },
    {
      "cell_type": "code",
      "metadata": {
        "colab": {
          "base_uri": "https://localhost:8080/"
        },
        "id": "RA9aD3S8F-Md",
        "outputId": "981ae34f-996e-4210-e764-cb84163408df"
      },
      "source": [
        "normal.PESO.mean(), cesarea.PESO.mean()"
      ],
      "execution_count": 33,
      "outputs": [
        {
          "output_type": "execute_result",
          "data": {
            "text/plain": [
              "(3192.6047932578354, 3262.2962539511736)"
            ]
          },
          "metadata": {
            "tags": []
          },
          "execution_count": 33
        }
      ]
    },
    {
      "cell_type": "code",
      "metadata": {
        "colab": {
          "base_uri": "https://localhost:8080/"
        },
        "id": "SGaAkM5GGKg2",
        "outputId": "6c95d53d-e600-408f-962c-d82f5497c3f1"
      },
      "source": [
        "normal.PESO.std(), cesarea.PESO.std()"
      ],
      "execution_count": 34,
      "outputs": [
        {
          "output_type": "execute_result",
          "data": {
            "text/plain": [
              "(555.2919465469533, 598.5973542998237)"
            ]
          },
          "metadata": {
            "tags": []
          },
          "execution_count": 34
        }
      ]
    },
    {
      "cell_type": "code",
      "metadata": {
        "colab": {
          "base_uri": "https://localhost:8080/"
        },
        "id": "G9FAB0nUSPOM",
        "outputId": "0a042035-662c-49e7-92a1-2e3be1935577"
      },
      "source": [
        "q_normal = normal.PESO.quantile([0.25, 0.75]).values\n",
        "q_cesarea = cesarea.PESO.quantile([0.25, 0.75]).values\n",
        "q_normal[1]-q_normal[0], q_cesarea[1]-q_cesarea[0]"
      ],
      "execution_count": 35,
      "outputs": [
        {
          "output_type": "execute_result",
          "data": {
            "text/plain": [
              "(610.0, 678.0)"
            ]
          },
          "metadata": {
            "tags": []
          },
          "execution_count": 35
        }
      ]
    },
    {
      "cell_type": "code",
      "metadata": {
        "colab": {
          "base_uri": "https://localhost:8080/"
        },
        "id": "nivvLOA9SZF8",
        "outputId": "ea9d2bad-e11a-4c0e-82c8-df603d016682"
      },
      "source": [
        "# coeficiente de variacao\n",
        "normal.PESO.std()*100/normal.PESO.mean(), cesarea.PESO.std()*100/cesarea.PESO.mean()"
      ],
      "execution_count": 36,
      "outputs": [
        {
          "output_type": "execute_result",
          "data": {
            "text/plain": [
              "(17.393068748115102, 18.348957534890477)"
            ]
          },
          "metadata": {
            "tags": []
          },
          "execution_count": 36
        }
      ]
    },
    {
      "cell_type": "markdown",
      "metadata": {
        "id": "cvPBgXWXUApq"
      },
      "source": [
        "Compare o peso da criança ao nascer para as diferentes categorias de consultas pré-natal"
      ]
    },
    {
      "cell_type": "code",
      "metadata": {
        "id": "deaSYmMwGZGS"
      },
      "source": [
        "pre_natal_0 = sinasc[sinasc.CONSULTAS == '1']\n",
        "pre_natal_1_3 = sinasc[sinasc.CONSULTAS == '2']\n",
        "pre_natal_4_6 = sinasc[sinasc.CONSULTAS == '3']\n",
        "pre_natal_7 = sinasc[sinasc.CONSULTAS == '4']"
      ],
      "execution_count": 37,
      "outputs": []
    },
    {
      "cell_type": "code",
      "metadata": {
        "colab": {
          "base_uri": "https://localhost:8080/"
        },
        "id": "48249kAUGx0h",
        "outputId": "eedc00df-9119-4904-e1cd-92b1444917df"
      },
      "source": [
        "pre_natal_0.PESO.mean(), pre_natal_1_3.PESO.mean(), pre_natal_4_6.PESO.mean(), pre_natal_7.PESO.mean()"
      ],
      "execution_count": 38,
      "outputs": [
        {
          "output_type": "execute_result",
          "data": {
            "text/plain": [
              "(3085.7057142857143, 3022.836124401914, 3166.4481224417154, 3295.601250066211)"
            ]
          },
          "metadata": {
            "tags": []
          },
          "execution_count": 38
        }
      ]
    },
    {
      "cell_type": "code",
      "metadata": {
        "colab": {
          "base_uri": "https://localhost:8080/"
        },
        "id": "IxBc6fpsHJLg",
        "outputId": "50fd5613-d985-4942-c706-9cd667d2019c"
      },
      "source": [
        "pre_natal_0.PESO.std(), pre_natal_1_3.PESO.std(), pre_natal_4_6.PESO.std(), pre_natal_7.PESO.std()"
      ],
      "execution_count": 39,
      "outputs": [
        {
          "output_type": "execute_result",
          "data": {
            "text/plain": [
              "(676.3215285616058, 765.4774563785681, 600.6850101167469, 500.74534594318817)"
            ]
          },
          "metadata": {
            "tags": []
          },
          "execution_count": 39
        }
      ]
    },
    {
      "cell_type": "code",
      "metadata": {
        "colab": {
          "base_uri": "https://localhost:8080/"
        },
        "id": "ZWl5T78az7pF",
        "outputId": "c980d71f-996d-4801-9302-c71f36fa71e4"
      },
      "source": [
        "q_pre_natal_0 = pre_natal_0.PESO.quantile([0.25, 0.75]).values\n",
        "q_pre_natal_1_3 = pre_natal_1_3.PESO.quantile([0.25, 0.75]).values\n",
        "q_pre_natal_4_6 = pre_natal_4_6.PESO.quantile([0.25, 0.75]).values\n",
        "q_pre_natal_7 = pre_natal_7.PESO.quantile([0.25, 0.75]).values\n",
        "\n",
        "q_pre_natal_0[1]-q_pre_natal_0[0], q_pre_natal_1_3[1]-q_pre_natal_1_3[0],  q_pre_natal_4_6[1]-q_pre_natal_4_6[0],  q_pre_natal_7[1]-q_pre_natal_7[0]"
      ],
      "execution_count": 40,
      "outputs": [
        {
          "output_type": "execute_result",
          "data": {
            "text/plain": [
              "(718.0, 737.0, 670.0, 610.0)"
            ]
          },
          "metadata": {
            "tags": []
          },
          "execution_count": 40
        }
      ]
    },
    {
      "cell_type": "code",
      "metadata": {
        "colab": {
          "base_uri": "https://localhost:8080/"
        },
        "id": "kqSO23H50v_1",
        "outputId": "a2c986fb-a4bf-47f4-f9fd-9388665e82ed"
      },
      "source": [
        "# coeficiente de variacao\n",
        "pre_natal_0.PESO.std()*100/pre_natal_0.PESO.mean(), pre_natal_1_3.PESO.std()*100/pre_natal_1_3.PESO.mean(), pre_natal_4_6.PESO.std()*100/pre_natal_4_6.PESO.mean(), pre_natal_7.PESO.std()*100/pre_natal_7.PESO.mean()"
      ],
      "execution_count": 41,
      "outputs": [
        {
          "output_type": "execute_result",
          "data": {
            "text/plain": [
              "(21.917888197519254, 25.323154311913697, 18.970309535769243, 15.19435477617712)"
            ]
          },
          "metadata": {
            "tags": []
          },
          "execution_count": 41
        }
      ]
    },
    {
      "cell_type": "markdown",
      "metadata": {
        "id": "p_eZsS8c12_Q"
      },
      "source": [
        "Compare quantidade de filhos vivos e mortos em relação ao tipo de gravidez (única, dupla, tripla ou mais)"
      ]
    },
    {
      "cell_type": "code",
      "metadata": {
        "id": "WI3dI_iGGcdp"
      },
      "source": [
        "unica = sinasc[sinasc.GRAVIDEZ == '1']\n",
        "dupla = sinasc[sinasc.GRAVIDEZ == '2']\n",
        "multipla = sinasc[sinasc.GRAVIDEZ == '3']"
      ],
      "execution_count": 42,
      "outputs": []
    },
    {
      "cell_type": "code",
      "metadata": {
        "colab": {
          "base_uri": "https://localhost:8080/"
        },
        "id": "t2SxXksGH433",
        "outputId": "6eb82605-2e9c-43c7-850e-d9ebca0ff70d"
      },
      "source": [
        "#Média\n",
        "mediaUnica = unica.IDADEMAE.mean()\n",
        "mediaDupla = dupla.IDADEMAE.mean()\n",
        "mediaMultipla = multipla.IDADEMAE.mean()\n",
        "mediaUnica, mediaDupla, mediaMultipla"
      ],
      "execution_count": 43,
      "outputs": [
        {
          "output_type": "execute_result",
          "data": {
            "text/plain": [
              "(26.104246987951807, 28.27371695178849, 30.38888888888889)"
            ]
          },
          "metadata": {
            "tags": []
          },
          "execution_count": 43
        }
      ]
    },
    {
      "cell_type": "code",
      "metadata": {
        "colab": {
          "base_uri": "https://localhost:8080/"
        },
        "id": "bZitPW5iJCSS",
        "outputId": "c2e2abb5-4bac-4f1a-acb4-a2dcdb011e59"
      },
      "source": [
        "#Desvio Padrão\n",
        "dp_Unica = unica.IDADEMAE.std()\n",
        "dp_Dupla = dupla.IDADEMAE.std()\n",
        "dp_Multipla = multipla.IDADEMAE.std()\n",
        "dp_Unica, dp_Dupla, dp_Multipla"
      ],
      "execution_count": 44,
      "outputs": [
        {
          "output_type": "execute_result",
          "data": {
            "text/plain": [
              "(6.841768008846308, 6.759304861179386, 9.73857634775462)"
            ]
          },
          "metadata": {
            "tags": []
          },
          "execution_count": 44
        }
      ]
    },
    {
      "cell_type": "code",
      "metadata": {
        "colab": {
          "base_uri": "https://localhost:8080/"
        },
        "id": "ZI_O6WkmJLzn",
        "outputId": "c3a3f376-46a2-4a2b-80c1-5c2a408e8e4b"
      },
      "source": [
        "# Intervalo inter-quartil\n",
        "q_unica = unica.IDADEMAE.quantile([0.25, 0.75]).values\n",
        "q_dupla = dupla.IDADEMAE.quantile([0.25, 0.75]).values\n",
        "q_multipla = multipla.IDADEMAE.quantile([0.25, 0.75]).values\n",
        "q_unica[1]-q_unica[0], q_dupla[1]-q_dupla[0], q_multipla[1]-q_multipla[0]"
      ],
      "execution_count": 45,
      "outputs": [
        {
          "output_type": "execute_result",
          "data": {
            "text/plain": [
              "(11.0, 10.0, 16.0)"
            ]
          },
          "metadata": {
            "tags": []
          },
          "execution_count": 45
        }
      ]
    },
    {
      "cell_type": "code",
      "metadata": {
        "colab": {
          "base_uri": "https://localhost:8080/"
        },
        "id": "1Fe4hCICJxFW",
        "outputId": "1b03c5c0-7d61-4d66-94aa-7c6bb396351c"
      },
      "source": [
        "# coeficiente de variacao\n",
        "dp_Unica*100/mediaUnica, dp_Dupla*100/mediaDupla, dp_Multipla*100/mediaMultipla"
      ],
      "execution_count": 46,
      "outputs": [
        {
          "output_type": "execute_result",
          "data": {
            "text/plain": [
              "(26.20940574154109, 23.90667230879178, 32.04650352094756)"
            ]
          },
          "metadata": {
            "tags": []
          },
          "execution_count": 46
        }
      ]
    },
    {
      "cell_type": "code",
      "metadata": {
        "colab": {
          "base_uri": "https://localhost:8080/",
          "height": 421
        },
        "id": "f9hju4a-KGYU",
        "outputId": "7fe26a91-b064-41b2-ecda-fb4ebf19fcb7"
      },
      "source": [
        "intervalosUnica = pd.cut(unica.IDADEMAE,[0, 9, 14, 19, 24, 29, 34, 39, 44, 49, 54, 59])\n",
        "intervalosDupla = pd.cut(dupla.IDADEMAE,[0, 9, 14, 19, 24, 29, 34, 39, 44, 49, 54, 59])\n",
        "intervalosMultipla = pd.cut(multipla.IDADEMAE,[0, 9, 14, 19, 24, 29, 34, 39, 44, 49, 54, 59])\n",
        "\n",
        "faixa_etaria_unica = unica.IDADEMAE.groupby(intervalosUnica)\n",
        "faixa_etaria_dupla = dupla.IDADEMAE.groupby(intervalosDupla)\n",
        "faixa_etaria_multipla = multipla.IDADEMAE.groupby(intervalosMultipla)\n",
        "\n",
        "freq_rel_unica = lambda x: x.count()*100/unica.IDADEMAE.count()\n",
        "dist_faixa_etaria_unica = faixa_etaria_unica.agg(['count',freq_rel_unica])\n",
        "\n",
        "freq_rel_dupla = lambda x: x.count()*100/dupla.IDADEMAE.count()\n",
        "dist_faixa_etaria_dupla = faixa_etaria_dupla.agg(['count',freq_rel_dupla])\n",
        "\n",
        "freq_rel_multipla = lambda x: x.count()*100/multipla.IDADEMAE.count()\n",
        "dist_faixa_etaria_multipla = faixa_etaria_multipla.agg(['count',freq_rel_multipla])\n",
        "\n",
        "dist_faixa_etaria_unica = pd.DataFrame(dist_faixa_etaria_unica)\n",
        "dist_faixa_etaria_dupla = pd.DataFrame(dist_faixa_etaria_dupla)\n",
        "dist_faixa_etaria_multipla = pd.DataFrame(dist_faixa_etaria_multipla)\n",
        "\n",
        "faixas = pd.DataFrame([])\n",
        "\n",
        "faixas['Unica'] = dist_faixa_etaria_unica['count']\n",
        "faixas['Dupla'] = dist_faixa_etaria_dupla['count']\n",
        "faixas['Multipla'] = dist_faixa_etaria_multipla['count']\n",
        "\n",
        "\n",
        "faixas\n"
      ],
      "execution_count": 97,
      "outputs": [
        {
          "output_type": "execute_result",
          "data": {
            "text/html": [
              "<div>\n",
              "<style scoped>\n",
              "    .dataframe tbody tr th:only-of-type {\n",
              "        vertical-align: middle;\n",
              "    }\n",
              "\n",
              "    .dataframe tbody tr th {\n",
              "        vertical-align: top;\n",
              "    }\n",
              "\n",
              "    .dataframe thead th {\n",
              "        text-align: right;\n",
              "    }\n",
              "</style>\n",
              "<table border=\"1\" class=\"dataframe\">\n",
              "  <thead>\n",
              "    <tr style=\"text-align: right;\">\n",
              "      <th></th>\n",
              "      <th>Unica</th>\n",
              "      <th>Dupla</th>\n",
              "      <th>Multipla</th>\n",
              "    </tr>\n",
              "    <tr>\n",
              "      <th>IDADEMAE</th>\n",
              "      <th></th>\n",
              "      <th></th>\n",
              "      <th></th>\n",
              "    </tr>\n",
              "  </thead>\n",
              "  <tbody>\n",
              "    <tr>\n",
              "      <th>(0, 9]</th>\n",
              "      <td>0</td>\n",
              "      <td>0</td>\n",
              "      <td>0</td>\n",
              "    </tr>\n",
              "    <tr>\n",
              "      <th>(9, 14]</th>\n",
              "      <td>329</td>\n",
              "      <td>2</td>\n",
              "      <td>0</td>\n",
              "    </tr>\n",
              "    <tr>\n",
              "      <th>(14, 19]</th>\n",
              "      <td>6248</td>\n",
              "      <td>73</td>\n",
              "      <td>3</td>\n",
              "    </tr>\n",
              "    <tr>\n",
              "      <th>(19, 24]</th>\n",
              "      <td>8474</td>\n",
              "      <td>133</td>\n",
              "      <td>2</td>\n",
              "    </tr>\n",
              "    <tr>\n",
              "      <th>(24, 29]</th>\n",
              "      <td>7388</td>\n",
              "      <td>149</td>\n",
              "      <td>3</td>\n",
              "    </tr>\n",
              "    <tr>\n",
              "      <th>(29, 34]</th>\n",
              "      <td>6332</td>\n",
              "      <td>154</td>\n",
              "      <td>3</td>\n",
              "    </tr>\n",
              "    <tr>\n",
              "      <th>(34, 39]</th>\n",
              "      <td>3507</td>\n",
              "      <td>103</td>\n",
              "      <td>3</td>\n",
              "    </tr>\n",
              "    <tr>\n",
              "      <th>(39, 44]</th>\n",
              "      <td>872</td>\n",
              "      <td>27</td>\n",
              "      <td>4</td>\n",
              "    </tr>\n",
              "    <tr>\n",
              "      <th>(44, 49]</th>\n",
              "      <td>48</td>\n",
              "      <td>2</td>\n",
              "      <td>0</td>\n",
              "    </tr>\n",
              "    <tr>\n",
              "      <th>(49, 54]</th>\n",
              "      <td>2</td>\n",
              "      <td>0</td>\n",
              "      <td>0</td>\n",
              "    </tr>\n",
              "    <tr>\n",
              "      <th>(54, 59]</th>\n",
              "      <td>0</td>\n",
              "      <td>0</td>\n",
              "      <td>0</td>\n",
              "    </tr>\n",
              "  </tbody>\n",
              "</table>\n",
              "</div>"
            ],
            "text/plain": [
              "          Unica  Dupla  Multipla\n",
              "IDADEMAE                        \n",
              "(0, 9]        0      0         0\n",
              "(9, 14]     329      2         0\n",
              "(14, 19]   6248     73         3\n",
              "(19, 24]   8474    133         2\n",
              "(24, 29]   7388    149         3\n",
              "(29, 34]   6332    154         3\n",
              "(34, 39]   3507    103         3\n",
              "(39, 44]    872     27         4\n",
              "(44, 49]     48      2         0\n",
              "(49, 54]      2      0         0\n",
              "(54, 59]      0      0         0"
            ]
          },
          "metadata": {
            "tags": []
          },
          "execution_count": 97
        }
      ]
    },
    {
      "cell_type": "markdown",
      "metadata": {
        "id": "8ZogqSP5XE-k"
      },
      "source": [
        "Compare a quantidade total de gravidezes (filhos vivos + filhos mortos) em relação a escolaridade"
      ]
    },
    {
      "cell_type": "code",
      "metadata": {
        "colab": {
          "base_uri": "https://localhost:8080/"
        },
        "id": "r6vQUkIKb0M3",
        "outputId": "33eb6633-6309-40d2-a20b-6ba0e4ef7099"
      },
      "source": [
        "#1: Nenhuma; 2: 1 a 3 anos; 3: 4 a 7 anos; 4: 8 a 11 anos; 5: 12 e mais\n",
        "primeira = sinasc[sinasc.ESCMAE == '1']\n",
        "segunda = sinasc[sinasc.ESCMAE == '2']\n",
        "terceira = sinasc[sinasc.ESCMAE == '3']\n",
        "quarta = sinasc[sinasc.ESCMAE == '4']\n",
        "quinta = sinasc[sinasc.ESCMAE == '5']\n",
        "\n",
        "\n",
        "primeira = pd.DataFrame(primeira)\n",
        "segunda = pd.DataFrame(segunda)\n",
        "terceira = pd.DataFrame(terceira)\n",
        "quarta = pd.DataFrame(quarta)\n",
        "quinta = pd.DataFrame(quinta)\n",
        "\n",
        "primeiraSum = primeira.QTDFILVIVO.sum() + primeira.QTDFILMORT.sum()\n",
        "segundaSum = segunda.QTDFILVIVO.sum() + segunda.QTDFILMORT.sum()\n",
        "terceiraSum = terceira.QTDFILVIVO.sum() + terceira.QTDFILMORT.sum()\n",
        "quartaSum = quarta.QTDFILVIVO.sum() + quarta.QTDFILMORT.sum()\n",
        "quintaSum = quinta.QTDFILVIVO.sum() + quinta.QTDFILMORT.sum()\n",
        "\n",
        "primeiraSum, segundaSum, terceiraSum, quartaSum, quintaSum"
      ],
      "execution_count": 48,
      "outputs": [
        {
          "output_type": "execute_result",
          "data": {
            "text/plain": [
              "(1028, 5112, 14806, 17814, 3440)"
            ]
          },
          "metadata": {
            "tags": []
          },
          "execution_count": 48
        }
      ]
    },
    {
      "cell_type": "code",
      "metadata": {
        "colab": {
          "base_uri": "https://localhost:8080/"
        },
        "id": "1gY1INtHTG5f",
        "outputId": "74e5527f-2591-476c-a51e-abfbf2a4e38a"
      },
      "source": [
        "#Média\n",
        "mediaPrimeiraVivo = primeira.QTDFILVIVO.mean()\n",
        "mediaSegundaVivo = segunda.QTDFILVIVO.mean()\n",
        "mediaTerceiraVivo = terceira.QTDFILVIVO.mean()\n",
        "mediaQuartaVivo = quarta.QTDFILVIVO.mean()\n",
        "mediaQuintaVivo = quinta.QTDFILVIVO.mean()\n",
        "\n",
        "mediaPrimeiraVivo, mediaSegundaVivo, mediaTerceiraVivo, mediaQuartaVivo, mediaQuintaVivo"
      ],
      "execution_count": 69,
      "outputs": [
        {
          "output_type": "execute_result",
          "data": {
            "text/plain": [
              "(4.482587064676617,\n",
              " 2.977627118644068,\n",
              " 1.5552601595138624,\n",
              " 0.8738128403191086,\n",
              " 0.49358151476251605)"
            ]
          },
          "metadata": {
            "tags": []
          },
          "execution_count": 69
        }
      ]
    },
    {
      "cell_type": "code",
      "metadata": {
        "colab": {
          "base_uri": "https://localhost:8080/"
        },
        "id": "TUUtG89uTn_r",
        "outputId": "ec378d49-fe87-4301-9d74-e221c1e94531"
      },
      "source": [
        "#Média\n",
        "mediaPrimeiraMorto = primeira.QTDFILMORT.mean()\n",
        "mediaSegundaMorto = segunda.QTDFILMORT.mean()\n",
        "mediaTerceiraMorto = terceira.QTDFILMORT.mean()\n",
        "mediaQuartaMorto = quarta.QTDFILMORT.mean()\n",
        "mediaQuintaMorto = quinta.QTDFILMORT.mean()\n",
        "\n",
        "mediaPrimeiraMorto, mediaSegundaMorto, mediaTerceiraMorto, mediaQuartaMorto, mediaQuintaMorto"
      ],
      "execution_count": 70,
      "outputs": [
        {
          "output_type": "execute_result",
          "data": {
            "text/plain": [
              "(0.7839506172839507,\n",
              " 0.5970149253731343,\n",
              " 0.3706807822379062,\n",
              " 0.2731976308802505,\n",
              " 0.24846491228070175)"
            ]
          },
          "metadata": {
            "tags": []
          },
          "execution_count": 70
        }
      ]
    },
    {
      "cell_type": "code",
      "metadata": {
        "colab": {
          "base_uri": "https://localhost:8080/"
        },
        "id": "Qe9MsOTqUMgm",
        "outputId": "4ead433e-06c4-473f-9b16-9b1ced47c02f"
      },
      "source": [
        "#Desvio Padrão\n",
        "dpPrimeiraVivo = primeira.QTDFILVIVO.std()\n",
        "dpSegundaVivo = segunda.QTDFILVIVO.std()\n",
        "dpTerceiraVivo = terceira.QTDFILVIVO.std()\n",
        "dpQuartaVivo = quarta.QTDFILVIVO.std()\n",
        "dpQuintaVivo = quinta.QTDFILVIVO.std()\n",
        "\n",
        "dpPrimeiraVivo, dpSegundaVivo, dpTerceiraVivo, dpQuartaVivo, dpQuintaVivo"
      ],
      "execution_count": 71,
      "outputs": [
        {
          "output_type": "execute_result",
          "data": {
            "text/plain": [
              "(2.7912264819666355,\n",
              " 2.2775915197591368,\n",
              " 1.5570776718642871,\n",
              " 1.0589987909482166,\n",
              " 0.7326431494753205)"
            ]
          },
          "metadata": {
            "tags": []
          },
          "execution_count": 71
        }
      ]
    },
    {
      "cell_type": "code",
      "metadata": {
        "colab": {
          "base_uri": "https://localhost:8080/"
        },
        "id": "YFNvqr4wUM4n",
        "outputId": "3af64720-946d-40d4-c321-17739d1b2bcd"
      },
      "source": [
        "#Desvio Padrão\n",
        "dpPrimeiraMorto = primeira.QTDFILMORT.std()\n",
        "dpSegundaMorto = segunda.QTDFILMORT.std()\n",
        "dpTerceiraMorto = terceira.QTDFILMORT.std()\n",
        "dpQuartaMorto = quarta.QTDFILMORT.std()\n",
        "dpQuintaMorto = quinta.QTDFILMORT.std()\n",
        "\n",
        "dpPrimeiraMorto, dpSegundaMorto, dpTerceiraMorto,dpQuartaMorto,dpQuintaMorto"
      ],
      "execution_count": 62,
      "outputs": [
        {
          "output_type": "execute_result",
          "data": {
            "text/plain": [
              "(1.1185568330892035,\n",
              " 0.889845552234201,\n",
              " 0.7071602019155704,\n",
              " 0.5901018330981184,\n",
              " 0.5967465448390596)"
            ]
          },
          "metadata": {
            "tags": []
          },
          "execution_count": 62
        }
      ]
    },
    {
      "cell_type": "code",
      "metadata": {
        "colab": {
          "base_uri": "https://localhost:8080/"
        },
        "id": "wGlwlWCQVESb",
        "outputId": "da1af3a7-837f-4919-e533-db139ddc49bc"
      },
      "source": [
        "# Intervalo inter-quartil\n",
        "qPrimeira = primeira.QTDFILVIVO.quantile([0.25, 0.75]).values\n",
        "qSegunda = segunda.QTDFILVIVO.quantile([0.25, 0.75]).values\n",
        "qTerceira = terceira.QTDFILVIVO.quantile([0.25, 0.75]).values\n",
        "qQuarta = quarta.QTDFILVIVO.quantile([0.25, 0.75]).values\n",
        "qQuinta = quinta.QTDFILVIVO.quantile([0.25, 0.75]).values\n",
        "\n",
        "qPrimeira[1]-qPrimeira[0], qSegunda[1]-qSegunda[0], qTerceira[1]-qTerceira[0], qQuarta[1]-qQuarta[0], qQuinta[1]-qQuinta[0]"
      ],
      "execution_count": 80,
      "outputs": [
        {
          "output_type": "execute_result",
          "data": {
            "text/plain": [
              "(5.0, 3.0, 2.0, 1.0, 1.0)"
            ]
          },
          "metadata": {
            "tags": []
          },
          "execution_count": 80
        }
      ]
    },
    {
      "cell_type": "code",
      "metadata": {
        "colab": {
          "base_uri": "https://localhost:8080/"
        },
        "id": "zKqhV4-KbMiS",
        "outputId": "c5fd1329-fb83-4bf9-8e74-8d6afb7fc490"
      },
      "source": [
        "# Intervalo inter-quartil\n",
        "qPrimeira = primeira.QTDFILMORT.quantile([0.25, 0.75]).values\n",
        "qSegunda = segunda.QTDFILMORT.quantile([0.25, 0.75]).values\n",
        "qTerceira = terceira.QTDFILMORT.quantile([0.25, 0.75]).values\n",
        "qQuarta = quarta.QTDFILMORT.quantile([0.25, 0.75]).values\n",
        "qQuinta = quinta.QTDFILMORT.quantile([0.25, 0.75]).values\n",
        "\n",
        "qPrimeira[1]-qPrimeira[0], qSegunda[1]-qSegunda[0], qTerceira[1]-qTerceira[0], qQuarta[1]-qQuarta[0], qQuinta[1]-qQuinta[0]"
      ],
      "execution_count": 81,
      "outputs": [
        {
          "output_type": "execute_result",
          "data": {
            "text/plain": [
              "(1.0, 1.0, 1.0, 0.0, 0.0)"
            ]
          },
          "metadata": {
            "tags": []
          },
          "execution_count": 81
        }
      ]
    },
    {
      "cell_type": "code",
      "metadata": {
        "colab": {
          "base_uri": "https://localhost:8080/"
        },
        "id": "rBm5NT10W9NX",
        "outputId": "f8eacc1a-3d95-48cc-84ca-f85f28b7e1ac"
      },
      "source": [
        "# coeficiente de variacao\n",
        "dpPrimeiraVivo*100/mediaPrimeiraVivo, dpSegundaVivo*100/mediaSegundaVivo, dpTerceiraVivo*100/mediaTerceiraVivo, dpQuartaVivo*100/mediaQuartaVivo, dpQuintaVivo*100/mediaQuintaVivo"
      ],
      "execution_count": 78,
      "outputs": [
        {
          "output_type": "execute_result",
          "data": {
            "text/plain": [
              "(62.26820453665857,\n",
              " 76.49015235985262,\n",
              " 100.11686227151816,\n",
              " 121.19286214213558,\n",
              " 148.43407371684648)"
            ]
          },
          "metadata": {
            "tags": []
          },
          "execution_count": 78
        }
      ]
    },
    {
      "cell_type": "code",
      "metadata": {
        "colab": {
          "base_uri": "https://localhost:8080/"
        },
        "id": "Qs4yjuPtXbZy",
        "outputId": "a71551e4-c7b4-467f-ab51-ecc09fb49f1a"
      },
      "source": [
        "# coeficiente de variacao\n",
        "dpPrimeiraMorto*100/mediaPrimeiraMorto, dpSegundaMorto*100/mediaSegundaMorto, dpTerceiraMorto*100/mediaTerceiraMorto, dpQuartaMorto*100/mediaQuartaMorto, dpQuintaMorto*100/mediaQuintaMorto"
      ],
      "execution_count": 79,
      "outputs": [
        {
          "output_type": "execute_result",
          "data": {
            "text/plain": [
              "(142.68205272476453,\n",
              " 149.04912999922868,\n",
              " 190.77336506258604,\n",
              " 215.99815166654028,\n",
              " 240.1733666783859)"
            ]
          },
          "metadata": {
            "tags": []
          },
          "execution_count": 79
        }
      ]
    }
  ]
}