{
  "nbformat": 4,
  "nbformat_minor": 0,
  "metadata": {
    "colab": {
      "name": "sergipe_analiseExploratoria.ipynb",
      "provenance": []
    },
    "kernelspec": {
      "name": "python3",
      "display_name": "Python 3"
    },
    "language_info": {
      "name": "python"
    }
  },
  "cells": [
    {
      "cell_type": "code",
      "metadata": {
        "id": "FG6pY4K2_ERl"
      },
      "source": [
        "\"\"\"\n",
        "5.7. Exercício - Medidas de posição\n",
        "\n",
        "Faça o download dos dados de nascidos vivos em 2017 de Sergipe e responda às seguintes perguntas:\n",
        "\n",
        "    Qual a média da idade da mãe, peso, apgar 1 min, apgar 5 min, quantidade de filhos vivos e quantidade de filhos mortos?\n",
        "    Qual a idade tal que metade das idades das mães são menores que ela (mediana)?\n",
        "    Qual o apgar de 1 min que mais aparece (moda)?\n",
        "    Qual o apgar de 5 minutos que mais aparece?\n",
        "    Qual o peso da criança tal que 10% dos pesos são menores (P10)?\n",
        "    Qual o peso da criança tal que 75% dos pesos são menores (Q3)?\n",
        "    Qual a quantidade de filhos mortos que mais aparece?\n",
        "    Qual a média de idade de mães solteiras?\n",
        "    Qual a quantidade de filhos vivos das mães com até 3 anos de escolaridade tal que 25% dessa quantidade são menores (Q1)?\n",
        "    Qual a moda da idade das mães para as crianças que nasceram com anomalia congênita?\n",
        "\n",
        "\n",
        "Utilize como referência os campos este arquivo: https://drive.google.com/open?id=1N5exAY_Uk-uyCpzYFocIVn9MO3v-HqWrt\n",
        "\n",
        "Lembre-se de:\n",
        "\n",
        "    Carregar os dados em um dataframe\n",
        "    Transformar os dados necessários\n",
        "\"\"\""
      ],
      "execution_count": null,
      "outputs": []
    },
    {
      "cell_type": "code",
      "metadata": {
        "id": "bRljWSsL_WRF",
        "colab": {
          "base_uri": "https://localhost:8080/",
          "height": 226
        },
        "outputId": "31903c73-d7e9-46ce-fc91-0936357be593"
      },
      "source": [
        "#/content/drive/MyDrive/py/DNSE2017.csv\n",
        "\n",
        "#le csv\n",
        "import pandas as pd\n",
        "\n",
        "caminhoArquivo = '/content/drive/MyDrive/py/DNSE2017.csv'\n",
        "\n",
        "sinasc = pd.read_csv(caminhoArquivo, dtype=str)\n",
        "sinasc.head()"
      ],
      "execution_count": 87,
      "outputs": [
        {
          "output_type": "execute_result",
          "data": {
            "text/html": [
              "<div>\n",
              "<style scoped>\n",
              "    .dataframe tbody tr th:only-of-type {\n",
              "        vertical-align: middle;\n",
              "    }\n",
              "\n",
              "    .dataframe tbody tr th {\n",
              "        vertical-align: top;\n",
              "    }\n",
              "\n",
              "    .dataframe thead th {\n",
              "        text-align: right;\n",
              "    }\n",
              "</style>\n",
              "<table border=\"1\" class=\"dataframe\">\n",
              "  <thead>\n",
              "    <tr style=\"text-align: right;\">\n",
              "      <th></th>\n",
              "      <th>contador</th>\n",
              "      <th>ORIGEM</th>\n",
              "      <th>CODESTAB</th>\n",
              "      <th>CODMUNNASC</th>\n",
              "      <th>LOCNASC</th>\n",
              "      <th>IDADEMAE</th>\n",
              "      <th>ESTCIVMAE</th>\n",
              "      <th>ESCMAE</th>\n",
              "      <th>CODOCUPMAE</th>\n",
              "      <th>QTDFILVIVO</th>\n",
              "      <th>QTDFILMORT</th>\n",
              "      <th>CODMUNRES</th>\n",
              "      <th>GESTACAO</th>\n",
              "      <th>GRAVIDEZ</th>\n",
              "      <th>PARTO</th>\n",
              "      <th>CONSULTAS</th>\n",
              "      <th>DTNASC</th>\n",
              "      <th>HORANASC</th>\n",
              "      <th>SEXO</th>\n",
              "      <th>APGAR1</th>\n",
              "      <th>APGAR5</th>\n",
              "      <th>RACACOR</th>\n",
              "      <th>PESO</th>\n",
              "      <th>IDANOMAL</th>\n",
              "      <th>DTCADASTRO</th>\n",
              "      <th>CODANOMAL</th>\n",
              "      <th>NUMEROLOTE</th>\n",
              "      <th>VERSAOSIST</th>\n",
              "      <th>DTRECEBIM</th>\n",
              "      <th>DIFDATA</th>\n",
              "      <th>DTRECORIGA</th>\n",
              "      <th>NATURALMAE</th>\n",
              "      <th>CODMUNNATU</th>\n",
              "      <th>CODUFNATU</th>\n",
              "      <th>ESCMAE2010</th>\n",
              "      <th>SERIESCMAE</th>\n",
              "      <th>DTNASCMAE</th>\n",
              "      <th>RACACORMAE</th>\n",
              "      <th>QTDGESTANT</th>\n",
              "      <th>QTDPARTNOR</th>\n",
              "      <th>QTDPARTCES</th>\n",
              "      <th>IDADEPAI</th>\n",
              "      <th>DTULTMENST</th>\n",
              "      <th>SEMAGESTAC</th>\n",
              "      <th>TPMETESTIM</th>\n",
              "      <th>CONSPRENAT</th>\n",
              "      <th>MESPRENAT</th>\n",
              "      <th>TPAPRESENT</th>\n",
              "      <th>STTRABPART</th>\n",
              "      <th>STCESPARTO</th>\n",
              "      <th>TPNASCASSI</th>\n",
              "      <th>TPFUNCRESP</th>\n",
              "      <th>TPDOCRESP</th>\n",
              "      <th>DTDECLARAC</th>\n",
              "      <th>ESCMAEAGR1</th>\n",
              "      <th>STDNEPIDEM</th>\n",
              "      <th>STDNNOVA</th>\n",
              "      <th>CODPAISRES</th>\n",
              "      <th>TPROBSON</th>\n",
              "      <th>PARIDADE</th>\n",
              "      <th>KOTELCHUCK</th>\n",
              "    </tr>\n",
              "  </thead>\n",
              "  <tbody>\n",
              "    <tr>\n",
              "      <th>0</th>\n",
              "      <td>1</td>\n",
              "      <td>1</td>\n",
              "      <td>2415631</td>\n",
              "      <td>230440</td>\n",
              "      <td>1</td>\n",
              "      <td>24</td>\n",
              "      <td>2</td>\n",
              "      <td>4</td>\n",
              "      <td>999992</td>\n",
              "      <td>01</td>\n",
              "      <td>00</td>\n",
              "      <td>280030</td>\n",
              "      <td>5</td>\n",
              "      <td>1</td>\n",
              "      <td>2</td>\n",
              "      <td>4</td>\n",
              "      <td>10012017</td>\n",
              "      <td>1413</td>\n",
              "      <td>1</td>\n",
              "      <td>09</td>\n",
              "      <td>10</td>\n",
              "      <td>4</td>\n",
              "      <td>3556</td>\n",
              "      <td>2</td>\n",
              "      <td>16012017</td>\n",
              "      <td>NaN</td>\n",
              "      <td>20170003</td>\n",
              "      <td>3.2.01</td>\n",
              "      <td>07022017</td>\n",
              "      <td>028</td>\n",
              "      <td>NaN</td>\n",
              "      <td>823</td>\n",
              "      <td>230075</td>\n",
              "      <td>23</td>\n",
              "      <td>3</td>\n",
              "      <td>NaN</td>\n",
              "      <td>08011993</td>\n",
              "      <td>4</td>\n",
              "      <td>01</td>\n",
              "      <td>00</td>\n",
              "      <td>01</td>\n",
              "      <td>NaN</td>\n",
              "      <td>NaN</td>\n",
              "      <td>40</td>\n",
              "      <td>9</td>\n",
              "      <td>10</td>\n",
              "      <td>NaN</td>\n",
              "      <td>1</td>\n",
              "      <td>2</td>\n",
              "      <td>1</td>\n",
              "      <td>1</td>\n",
              "      <td>NaN</td>\n",
              "      <td>0</td>\n",
              "      <td>NaN</td>\n",
              "      <td>12</td>\n",
              "      <td>0</td>\n",
              "      <td>1</td>\n",
              "      <td>NaN</td>\n",
              "      <td>05</td>\n",
              "      <td>1</td>\n",
              "      <td>9</td>\n",
              "    </tr>\n",
              "    <tr>\n",
              "      <th>1</th>\n",
              "      <td>2</td>\n",
              "      <td>1</td>\n",
              "      <td>2005050</td>\n",
              "      <td>270030</td>\n",
              "      <td>1</td>\n",
              "      <td>34</td>\n",
              "      <td>5</td>\n",
              "      <td>4</td>\n",
              "      <td>622020</td>\n",
              "      <td>03</td>\n",
              "      <td>01</td>\n",
              "      <td>280600</td>\n",
              "      <td>5</td>\n",
              "      <td>1</td>\n",
              "      <td>2</td>\n",
              "      <td>3</td>\n",
              "      <td>05042017</td>\n",
              "      <td>1425</td>\n",
              "      <td>1</td>\n",
              "      <td>08</td>\n",
              "      <td>09</td>\n",
              "      <td>4</td>\n",
              "      <td>2760</td>\n",
              "      <td>2</td>\n",
              "      <td>03072017</td>\n",
              "      <td>NaN</td>\n",
              "      <td>20170020</td>\n",
              "      <td>3.2.01</td>\n",
              "      <td>26072017</td>\n",
              "      <td>112</td>\n",
              "      <td>NaN</td>\n",
              "      <td>827</td>\n",
              "      <td>270400</td>\n",
              "      <td>27</td>\n",
              "      <td>3</td>\n",
              "      <td>3</td>\n",
              "      <td>06011983</td>\n",
              "      <td>4</td>\n",
              "      <td>04</td>\n",
              "      <td>03</td>\n",
              "      <td>NaN</td>\n",
              "      <td>NaN</td>\n",
              "      <td>14072016</td>\n",
              "      <td>37</td>\n",
              "      <td>8</td>\n",
              "      <td>05</td>\n",
              "      <td>03</td>\n",
              "      <td>1</td>\n",
              "      <td>2</td>\n",
              "      <td>2</td>\n",
              "      <td>1</td>\n",
              "      <td>NaN</td>\n",
              "      <td>3</td>\n",
              "      <td>05042017</td>\n",
              "      <td>06</td>\n",
              "      <td>0</td>\n",
              "      <td>1</td>\n",
              "      <td>NaN</td>\n",
              "      <td>03</td>\n",
              "      <td>1</td>\n",
              "      <td>3</td>\n",
              "    </tr>\n",
              "    <tr>\n",
              "      <th>2</th>\n",
              "      <td>3</td>\n",
              "      <td>1</td>\n",
              "      <td>2005050</td>\n",
              "      <td>270030</td>\n",
              "      <td>1</td>\n",
              "      <td>19</td>\n",
              "      <td>2</td>\n",
              "      <td>4</td>\n",
              "      <td>622020</td>\n",
              "      <td>NaN</td>\n",
              "      <td>NaN</td>\n",
              "      <td>280120</td>\n",
              "      <td>NaN</td>\n",
              "      <td>1</td>\n",
              "      <td>2</td>\n",
              "      <td>4</td>\n",
              "      <td>03042017</td>\n",
              "      <td>1250</td>\n",
              "      <td>1</td>\n",
              "      <td>08</td>\n",
              "      <td>09</td>\n",
              "      <td>4</td>\n",
              "      <td>3010</td>\n",
              "      <td>2</td>\n",
              "      <td>17042017</td>\n",
              "      <td>NaN</td>\n",
              "      <td>20170011</td>\n",
              "      <td>3.2.01</td>\n",
              "      <td>20042017</td>\n",
              "      <td>017</td>\n",
              "      <td>NaN</td>\n",
              "      <td>827</td>\n",
              "      <td>270030</td>\n",
              "      <td>27</td>\n",
              "      <td>3</td>\n",
              "      <td>3</td>\n",
              "      <td>21081997</td>\n",
              "      <td>4</td>\n",
              "      <td>NaN</td>\n",
              "      <td>NaN</td>\n",
              "      <td>NaN</td>\n",
              "      <td>26</td>\n",
              "      <td>NaN</td>\n",
              "      <td>NaN</td>\n",
              "      <td>NaN</td>\n",
              "      <td>08</td>\n",
              "      <td>01</td>\n",
              "      <td>1</td>\n",
              "      <td>1</td>\n",
              "      <td>2</td>\n",
              "      <td>1</td>\n",
              "      <td>NaN</td>\n",
              "      <td>3</td>\n",
              "      <td>03042017</td>\n",
              "      <td>06</td>\n",
              "      <td>0</td>\n",
              "      <td>1</td>\n",
              "      <td>NaN</td>\n",
              "      <td>11</td>\n",
              "      <td>0</td>\n",
              "      <td>5</td>\n",
              "    </tr>\n",
              "    <tr>\n",
              "      <th>3</th>\n",
              "      <td>4</td>\n",
              "      <td>1</td>\n",
              "      <td>2005026</td>\n",
              "      <td>270030</td>\n",
              "      <td>1</td>\n",
              "      <td>19</td>\n",
              "      <td>2</td>\n",
              "      <td>4</td>\n",
              "      <td>999992</td>\n",
              "      <td>01</td>\n",
              "      <td>NaN</td>\n",
              "      <td>280440</td>\n",
              "      <td>5</td>\n",
              "      <td>1</td>\n",
              "      <td>2</td>\n",
              "      <td>3</td>\n",
              "      <td>29042017</td>\n",
              "      <td>1615</td>\n",
              "      <td>2</td>\n",
              "      <td>08</td>\n",
              "      <td>09</td>\n",
              "      <td>4</td>\n",
              "      <td>3720</td>\n",
              "      <td>2</td>\n",
              "      <td>17052017</td>\n",
              "      <td>NaN</td>\n",
              "      <td>20170015</td>\n",
              "      <td>3.2.01</td>\n",
              "      <td>18052017</td>\n",
              "      <td>019</td>\n",
              "      <td>NaN</td>\n",
              "      <td>827</td>\n",
              "      <td>270170</td>\n",
              "      <td>27</td>\n",
              "      <td>2</td>\n",
              "      <td>8</td>\n",
              "      <td>10041998</td>\n",
              "      <td>4</td>\n",
              "      <td>01</td>\n",
              "      <td>NaN</td>\n",
              "      <td>01</td>\n",
              "      <td>NaN</td>\n",
              "      <td>08082016</td>\n",
              "      <td>37</td>\n",
              "      <td>8</td>\n",
              "      <td>04</td>\n",
              "      <td>04</td>\n",
              "      <td>1</td>\n",
              "      <td>1</td>\n",
              "      <td>1</td>\n",
              "      <td>1</td>\n",
              "      <td>2</td>\n",
              "      <td>3</td>\n",
              "      <td>29042017</td>\n",
              "      <td>04</td>\n",
              "      <td>0</td>\n",
              "      <td>1</td>\n",
              "      <td>NaN</td>\n",
              "      <td>05</td>\n",
              "      <td>1</td>\n",
              "      <td>2</td>\n",
              "    </tr>\n",
              "    <tr>\n",
              "      <th>4</th>\n",
              "      <td>5</td>\n",
              "      <td>1</td>\n",
              "      <td>2722429</td>\n",
              "      <td>270400</td>\n",
              "      <td>1</td>\n",
              "      <td>16</td>\n",
              "      <td>1</td>\n",
              "      <td>4</td>\n",
              "      <td>999991</td>\n",
              "      <td>00</td>\n",
              "      <td>04</td>\n",
              "      <td>280570</td>\n",
              "      <td>5</td>\n",
              "      <td>1</td>\n",
              "      <td>1</td>\n",
              "      <td>3</td>\n",
              "      <td>19042017</td>\n",
              "      <td>1014</td>\n",
              "      <td>1</td>\n",
              "      <td>09</td>\n",
              "      <td>10</td>\n",
              "      <td>4</td>\n",
              "      <td>2900</td>\n",
              "      <td>2</td>\n",
              "      <td>06062017</td>\n",
              "      <td>NaN</td>\n",
              "      <td>20170007</td>\n",
              "      <td>3.2.01</td>\n",
              "      <td>06062017</td>\n",
              "      <td>048</td>\n",
              "      <td>NaN</td>\n",
              "      <td>828</td>\n",
              "      <td>280030</td>\n",
              "      <td>28</td>\n",
              "      <td>3</td>\n",
              "      <td>1</td>\n",
              "      <td>30082000</td>\n",
              "      <td>4</td>\n",
              "      <td>00</td>\n",
              "      <td>00</td>\n",
              "      <td>00</td>\n",
              "      <td>NaN</td>\n",
              "      <td>20072016</td>\n",
              "      <td>38</td>\n",
              "      <td>8</td>\n",
              "      <td>05</td>\n",
              "      <td>05</td>\n",
              "      <td>1</td>\n",
              "      <td>2</td>\n",
              "      <td>3</td>\n",
              "      <td>3</td>\n",
              "      <td>2</td>\n",
              "      <td>4</td>\n",
              "      <td>19042017</td>\n",
              "      <td>05</td>\n",
              "      <td>0</td>\n",
              "      <td>1</td>\n",
              "      <td>NaN</td>\n",
              "      <td>03</td>\n",
              "      <td>1</td>\n",
              "      <td>2</td>\n",
              "    </tr>\n",
              "  </tbody>\n",
              "</table>\n",
              "</div>"
            ],
            "text/plain": [
              "  contador ORIGEM CODESTAB CODMUNNASC  ... CODPAISRES TPROBSON PARIDADE KOTELCHUCK\n",
              "0        1      1  2415631     230440  ...        NaN       05        1          9\n",
              "1        2      1  2005050     270030  ...        NaN       03        1          3\n",
              "2        3      1  2005050     270030  ...        NaN       11        0          5\n",
              "3        4      1  2005026     270030  ...        NaN       05        1          2\n",
              "4        5      1  2722429     270400  ...        NaN       03        1          2\n",
              "\n",
              "[5 rows x 61 columns]"
            ]
          },
          "metadata": {
            "tags": []
          },
          "execution_count": 87
        }
      ]
    },
    {
      "cell_type": "code",
      "metadata": {
        "colab": {
          "base_uri": "https://localhost:8080/"
        },
        "id": "JPNyNmcd_iJw",
        "outputId": "15244168-04d9-4f60-bc5d-d955252c616a"
      },
      "source": [
        "\"\"\"\n",
        "Qual a média da idade da mãe, peso, apgar 1 min, apgar 5 min, quantidade de filhos vivos e quantidade de filhos mortos?\n",
        "\"\"\"\n",
        "#medias colunas\n",
        "sinasc.QTDFILVIVO = pd.to_numeric(sinasc.QTDFILVIVO).astype(pd.Int64Dtype())\n",
        "sinasc.QTDFILMORT = pd.to_numeric(sinasc.QTDFILMORT).astype(pd.Int64Dtype())\n",
        "sinasc.PESO = pd.to_numeric(sinasc.PESO)\n",
        "sinasc.IDADEMAE = pd.to_numeric(sinasc.IDADEMAE)\n",
        "sinasc.APGAR1  = pd.to_numeric(sinasc.APGAR1)\n",
        "sinasc.APGAR5 = pd.to_numeric(sinasc.APGAR5)\n",
        "\n",
        "camposMedia = sinasc[['IDADEMAE','PESO', 'APGAR1', 'APGAR5', 'QTDFILVIVO', 'QTDFILMORT']]\n",
        "camposMedia.mean()\n",
        "\n"
      ],
      "execution_count": 88,
      "outputs": [
        {
          "output_type": "execute_result",
          "data": {
            "text/plain": [
              "IDADEMAE        26.148079\n",
              "PESO          3223.196332\n",
              "APGAR1           8.443829\n",
              "APGAR5           9.526913\n",
              "QTDFILVIVO       1.123062\n",
              "QTDFILMORT       0.310486\n",
              "dtype: float64"
            ]
          },
          "metadata": {
            "tags": []
          },
          "execution_count": 88
        }
      ]
    },
    {
      "cell_type": "code",
      "metadata": {
        "colab": {
          "base_uri": "https://localhost:8080/"
        },
        "id": "AfieVSHMIEIo",
        "outputId": "08a9797d-cab4-42c3-98f7-c2ddd0a1b2cc"
      },
      "source": [
        "\"\"\"\n",
        "Qual a idade tal que metade das idades das mães são menores que ela (mediana)?\n",
        "\"\"\"\n",
        "\n",
        "medianaIdadeMae = camposMedia['IDADEMAE'].median()\n",
        "medianaIdadeMae"
      ],
      "execution_count": 89,
      "outputs": [
        {
          "output_type": "execute_result",
          "data": {
            "text/plain": [
              "26.0"
            ]
          },
          "metadata": {
            "tags": []
          },
          "execution_count": 89
        }
      ]
    },
    {
      "cell_type": "code",
      "metadata": {
        "colab": {
          "base_uri": "https://localhost:8080/"
        },
        "id": "uNA24ldcIJ2W",
        "outputId": "0ba62d90-2bad-4a94-c376-9367b59a22c3"
      },
      "source": [
        "\"\"\"\n",
        "Qual o apgar de 1 min que mais aparece (moda)?\n",
        "\"\"\"\n",
        "\n",
        "modaApgar1 = camposMedia['APGAR1'].mode()\n",
        "modaApgar1"
      ],
      "execution_count": 90,
      "outputs": [
        {
          "output_type": "execute_result",
          "data": {
            "text/plain": [
              "0    9.0\n",
              "dtype: float64"
            ]
          },
          "metadata": {
            "tags": []
          },
          "execution_count": 90
        }
      ]
    },
    {
      "cell_type": "code",
      "metadata": {
        "colab": {
          "base_uri": "https://localhost:8080/"
        },
        "id": "qLdFt1yJJ7xM",
        "outputId": "096e25e0-af12-41f9-9da4-385aa810df7a"
      },
      "source": [
        "\"\"\"\n",
        "Qual o apgar de 5 minutos que mais aparece?\n",
        "\"\"\"\n",
        "\n",
        "modaApgar5 = camposMedia['APGAR5'].mode()\n",
        "modaApgar5"
      ],
      "execution_count": 91,
      "outputs": [
        {
          "output_type": "execute_result",
          "data": {
            "text/plain": [
              "0    10.0\n",
              "dtype: float64"
            ]
          },
          "metadata": {
            "tags": []
          },
          "execution_count": 91
        }
      ]
    },
    {
      "cell_type": "code",
      "metadata": {
        "colab": {
          "base_uri": "https://localhost:8080/"
        },
        "id": "i5juKA1aKJIh",
        "outputId": "674f0880-efa9-4a17-af8b-6d14af606e97"
      },
      "source": [
        "\"\"\"\n",
        "Qual o peso da criança tal que 10% dos pesos são menores (P10)?\n",
        "Qual o peso da criança tal que 75% dos pesos são menores (Q3)?\n",
        "\"\"\"    \n",
        "\n",
        "quantisPesoCriancas = camposMedia['PESO'].quantile([0.1, 0.75])\n",
        "quantisPesoCriancas"
      ],
      "execution_count": 92,
      "outputs": [
        {
          "output_type": "execute_result",
          "data": {
            "text/plain": [
              "0.10    2570.0\n",
              "0.75    3575.0\n",
              "Name: PESO, dtype: float64"
            ]
          },
          "metadata": {
            "tags": []
          },
          "execution_count": 92
        }
      ]
    },
    {
      "cell_type": "code",
      "metadata": {
        "colab": {
          "base_uri": "https://localhost:8080/"
        },
        "id": "98YfkMM6LGCg",
        "outputId": "c18e97df-8326-46e4-af0a-058f2efe3c87"
      },
      "source": [
        "\"\"\"\n",
        "Qual a quantidade de filhos mortos que mais aparece?\n",
        "\"\"\"\n",
        "\n",
        "modaFilhosMortos = camposMedia['QTDFILMORT'].mode()\n",
        "modaFilhosMortos"
      ],
      "execution_count": 93,
      "outputs": [
        {
          "output_type": "execute_result",
          "data": {
            "text/plain": [
              "0    0\n",
              "dtype: Int64"
            ]
          },
          "metadata": {
            "tags": []
          },
          "execution_count": 93
        }
      ]
    },
    {
      "cell_type": "code",
      "metadata": {
        "colab": {
          "base_uri": "https://localhost:8080/"
        },
        "id": "IudYKj2XLlbb",
        "outputId": "03e046bb-0e8c-45e9-ed30-d5ae32867308"
      },
      "source": [
        "\"\"\"\n",
        "Qual a média de idade de mães solteiras?\n",
        "\"\"\"\n",
        "\n",
        "mediaIdadeMaesSolteiras = sinasc[(sinasc['ESTCIVMAE']=='1')]['IDADEMAE'].mean()\n",
        "mediaIdadeMaesSolteiras\n",
        "  "
      ],
      "execution_count": 96,
      "outputs": [
        {
          "output_type": "execute_result",
          "data": {
            "text/plain": [
              "24.929703822047436"
            ]
          },
          "metadata": {
            "tags": []
          },
          "execution_count": 96
        }
      ]
    },
    {
      "cell_type": "code",
      "metadata": {
        "colab": {
          "base_uri": "https://localhost:8080/"
        },
        "id": "4qTJH-b0M_30",
        "outputId": "6e9019a8-3a50-4033-bee5-86fe4db78ee4"
      },
      "source": [
        "\"\"\"\n",
        "Qual a quantidade de filhos vivos das mães com até 3 anos de escolaridade \n",
        "tal que 25% dessa quantidade são menores (Q1)?\n",
        "\"\"\"\n",
        "\n",
        "sinasc[(sinasc.ESCMAE == '1')|(sinasc.ESCMAE == '2')]['QTDFILVIVO'].quantile([0.25])"
      ],
      "execution_count": 97,
      "outputs": [
        {
          "output_type": "execute_result",
          "data": {
            "text/plain": [
              "0.25    1\n",
              "Name: QTDFILVIVO, dtype: object"
            ]
          },
          "metadata": {
            "tags": []
          },
          "execution_count": 97
        }
      ]
    },
    {
      "cell_type": "code",
      "metadata": {
        "colab": {
          "base_uri": "https://localhost:8080/"
        },
        "id": "7ZETRvhXOg_q",
        "outputId": "27c2d826-c328-4907-97e2-00d87a12540c"
      },
      "source": [
        "\"\"\"\n",
        "Qual a moda da idade das mães para as crianças que nasceram com anomalia congênita?\n",
        "\"\"\"\n",
        "\n",
        "sinasc[(sinasc.IDANOMAL == '1')]['IDADEMAE'].mode()\n"
      ],
      "execution_count": 98,
      "outputs": [
        {
          "output_type": "execute_result",
          "data": {
            "text/plain": [
              "0    21\n",
              "dtype: int64"
            ]
          },
          "metadata": {
            "tags": []
          },
          "execution_count": 98
        }
      ]
    }
  ]
}
