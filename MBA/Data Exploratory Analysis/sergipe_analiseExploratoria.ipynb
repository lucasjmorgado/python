{
  "nbformat": 4,
  "nbformat_minor": 0,
  "metadata": {
    "colab": {
      "name": "sergipe_analiseExploratoria.ipynb",
      "provenance": []
    },
    "kernelspec": {
      "name": "python3",
      "display_name": "Python 3"
    },
    "language_info": {
      "name": "python"
    }
  },
  "cells": [
    {
      "cell_type": "code",
      "metadata": {
        "id": "FG6pY4K2_ERl"
      },
      "source": [
        "\"\"\"\n",
        "5.7. Exercício - Medidas de posição\n",
        "\n",
        "Faça o download dos dados de nascidos vivos em 2017 de Sergipe e responda às seguintes perguntas:\n",
        "\n",
        "    Qual a média da idade da mãe, peso, apgar 1 min, apgar 5 min, quantidade de filhos vivos e quantidade de filhos mortos?\n",
        "    Qual a idade tal que metade das idades das mães são menores que ela (mediana)?\n",
        "    Qual o apgar de 1 min que mais aparece (moda)?\n",
        "    Qual o apgar de 5 minutos que mais aparece?\n",
        "    Qual o peso da criança tal que 10% dos pesos são menores (P10)?\n",
        "    Qual o peso da criança tal que 75% dos pesos são menores (Q3)?\n",
        "    Qual a quantidade de filhos mortos que mais aparece?\n",
        "    Qual a média de idade de mães solteiras?\n",
        "    Qual a quantidade de filhos vivos das mães com até 3 anos de escolaridade tal que 25% dessa quantidade são menores (Q1)?\n",
        "    Qual a moda da idade das mães para as crianças que nasceram com anomalia congênita?\n",
        "\n",
        "\n",
        "Utilize como referência os campos este arquivo: https://drive.google.com/open?id=1N5exAY_Uk-uyCpzYFocIVn9MO3v-HqWrt\n",
        "\n",
        "Lembre-se de:\n",
        "\n",
        "    Carregar os dados em um dataframe\n",
        "    Transformar os dados necessários\n",
        "\"\"\""
      ],
      "execution_count": null,
      "outputs": []
    },
    {
      "cell_type": "code",
      "metadata": {
        "id": "bRljWSsL_WRF"
      },
      "source": [
        "#/content/drive/MyDrive/py/DNSE2017.csv\n",
        "\n",
        "#le csv\n",
        "import pandas as pd\n",
        "\n",
        "caminhoArquivo = '/content/drive/MyDrive/py/DNSE2017.csv'\n",
        "\n",
        "sinasc = pd.read_csv(caminhoArquivo, dtype=str)"
      ],
      "execution_count": 78,
      "outputs": []
    },
    {
      "cell_type": "code",
      "metadata": {
        "colab": {
          "base_uri": "https://localhost:8080/"
        },
        "id": "JPNyNmcd_iJw",
        "outputId": "ccce5cab-648e-4a93-c214-e463bdac7c8b"
      },
      "source": [
        "\"\"\"\n",
        "Qual a média da idade da mãe, peso, apgar 1 min, apgar 5 min, quantidade de filhos vivos e quantidade de filhos mortos?\n",
        "\"\"\"\n",
        "#medias colunas\n",
        "sinasc.QTDFILVIVO = pd.to_numeric(sinasc.QTDFILVIVO).astype(pd.Int64Dtype())\n",
        "sinasc.QTDFILMORT = pd.to_numeric(sinasc.QTDFILMORT).astype(pd.Int64Dtype())\n",
        "sinasc.PESO = pd.to_numeric(sinasc.PESO)\n",
        "sinasc.IDADEMAE = pd.to_numeric(sinasc.IDADEMAE)\n",
        "sinasc.APGAR1  = pd.to_numeric(sinasc.APGAR1)\n",
        "sinasc.APGAR5 = pd.to_numeric(sinasc.APGAR5)\n",
        "\n",
        "camposMedia = sinasc[['IDADEMAE','PESO', 'APGAR1', 'APGAR5', 'QTDFILVIVO', 'QTDFILMORT']]\n",
        "camposMedia.mean()\n",
        "\n"
      ],
      "execution_count": 86,
      "outputs": [
        {
          "output_type": "execute_result",
          "data": {
            "text/plain": [
              "IDADEMAE        26.148079\n",
              "PESO          3223.196332\n",
              "APGAR1           8.443829\n",
              "APGAR5           9.526913\n",
              "QTDFILVIVO       1.123062\n",
              "QTDFILMORT       0.310486\n",
              "dtype: float64"
            ]
          },
          "metadata": {
            "tags": []
          },
          "execution_count": 86
        }
      ]
    },
    {
      "cell_type": "code",
      "metadata": {
        "colab": {
          "base_uri": "https://localhost:8080/"
        },
        "id": "AfieVSHMIEIo",
        "outputId": "9468cd4a-25ee-4e92-f184-6d429cb227a2"
      },
      "source": [
        "\"\"\"\n",
        "Qual a idade tal que metade das idades das mães são menores que ela (mediana)?\n",
        "\"\"\"\n",
        "\n",
        "medianaIdadeMae = camposMedia['IDADEMAE'].median()\n",
        "medianaIdadeMae"
      ],
      "execution_count": 80,
      "outputs": [
        {
          "output_type": "execute_result",
          "data": {
            "text/plain": [
              "26.0"
            ]
          },
          "metadata": {
            "tags": []
          },
          "execution_count": 80
        }
      ]
    },
    {
      "cell_type": "code",
      "metadata": {
        "colab": {
          "base_uri": "https://localhost:8080/"
        },
        "id": "uNA24ldcIJ2W",
        "outputId": "60239ba2-ee0d-4868-e2ca-115ce85fc089"
      },
      "source": [
        "\"\"\"\n",
        "Qual o apgar de 1 min que mais aparece (moda)?\n",
        "\"\"\"\n",
        "\n",
        "modaApgar1 = camposMedia['APGAR1'].mode()\n",
        "modaApgar1"
      ],
      "execution_count": 81,
      "outputs": [
        {
          "output_type": "execute_result",
          "data": {
            "text/plain": [
              "0    9.0\n",
              "dtype: float64"
            ]
          },
          "metadata": {
            "tags": []
          },
          "execution_count": 81
        }
      ]
    },
    {
      "cell_type": "code",
      "metadata": {
        "colab": {
          "base_uri": "https://localhost:8080/"
        },
        "id": "qLdFt1yJJ7xM",
        "outputId": "e2c7c0b1-d1b2-4635-935e-3b94c52323a4"
      },
      "source": [
        "\"\"\"\n",
        "Qual o apgar de 5 minutos que mais aparece?\n",
        "\"\"\"\n",
        "\n",
        "modaApgar5 = camposMedia['APGAR5'].mode()\n",
        "modaApgar5"
      ],
      "execution_count": 64,
      "outputs": [
        {
          "output_type": "execute_result",
          "data": {
            "text/plain": [
              "0    9.0\n",
              "dtype: float64"
            ]
          },
          "metadata": {
            "tags": []
          },
          "execution_count": 64
        }
      ]
    },
    {
      "cell_type": "code",
      "metadata": {
        "colab": {
          "base_uri": "https://localhost:8080/"
        },
        "id": "i5juKA1aKJIh",
        "outputId": "120ee3b4-4c1a-48f5-80ff-87420cd9cad7"
      },
      "source": [
        "\"\"\"\n",
        "Qual o peso da criança tal que 10% dos pesos são menores (P10)?\n",
        "Qual o peso da criança tal que 75% dos pesos são menores (Q3)?\n",
        "\"\"\"    \n",
        "\n",
        "quantisPesoCriancas = camposMedia['PESO'].quantile([0.1, 0.75])\n",
        "quantisPesoCriancas"
      ],
      "execution_count": 65,
      "outputs": [
        {
          "output_type": "execute_result",
          "data": {
            "text/plain": [
              "0.10    2590.0\n",
              "0.75    3600.0\n",
              "Name: PESO, dtype: float64"
            ]
          },
          "metadata": {
            "tags": []
          },
          "execution_count": 65
        }
      ]
    },
    {
      "cell_type": "code",
      "metadata": {
        "colab": {
          "base_uri": "https://localhost:8080/"
        },
        "id": "98YfkMM6LGCg",
        "outputId": "baf1cad8-1eb7-45a7-b04c-d0ac5671f7c4"
      },
      "source": [
        "\"\"\"\n",
        "Qual a quantidade de filhos mortos que mais aparece?\n",
        "\"\"\"\n",
        "\n",
        "modaFilhosMortos = camposMedia['QTDFILMORT'].mode()\n",
        "modaFilhosMortos"
      ],
      "execution_count": 82,
      "outputs": [
        {
          "output_type": "execute_result",
          "data": {
            "text/plain": [
              "0    0\n",
              "dtype: Int64"
            ]
          },
          "metadata": {
            "tags": []
          },
          "execution_count": 82
        }
      ]
    },
    {
      "cell_type": "code",
      "metadata": {
        "colab": {
          "base_uri": "https://localhost:8080/"
        },
        "id": "IudYKj2XLlbb",
        "outputId": "aac3ef66-5ea6-440f-b255-1540b6422d42"
      },
      "source": [
        "\"\"\"\n",
        "Qual a média de idade de mães solteiras?\n",
        "\"\"\"\n",
        "\n",
        "mediaIdadeMaesSolteiras = sinasc[(sinasc['ESTCIVMAE']=='1')|(sinasc['ESTCIVMAE']=='2')]['IDADEMAE'].mean()\n",
        "mediaIdadeMaesSolteiras\n"
      ],
      "execution_count": 85,
      "outputs": [
        {
          "output_type": "execute_result",
          "data": {
            "text/plain": [
              "26.458368842679395"
            ]
          },
          "metadata": {
            "tags": []
          },
          "execution_count": 85
        }
      ]
    },
    {
      "cell_type": "code",
      "metadata": {
        "colab": {
          "base_uri": "https://localhost:8080/"
        },
        "id": "4qTJH-b0M_30",
        "outputId": "59f4baa8-4c09-4432-e104-19bdbe344a41"
      },
      "source": [
        "\"\"\"\n",
        "Qual a quantidade de filhos vivos das mães com até 3 anos de escolaridade \n",
        "tal que 25% dessa quantidade são menores (Q1)?\n",
        "\"\"\"\n",
        "\n",
        "sinasc[(sinasc.ESCMAE == '2')]['QTDFILVIVO'].quantile([0.25])"
      ],
      "execution_count": 56,
      "outputs": [
        {
          "output_type": "execute_result",
          "data": {
            "text/plain": [
              "0.25    2\n",
              "Name: QTDFILVIVO, dtype: object"
            ]
          },
          "metadata": {
            "tags": []
          },
          "execution_count": 56
        }
      ]
    },
    {
      "cell_type": "code",
      "metadata": {
        "colab": {
          "base_uri": "https://localhost:8080/"
        },
        "id": "7ZETRvhXOg_q",
        "outputId": "f26cb59f-d34b-43de-a2fd-505d3848ec60"
      },
      "source": [
        "\"\"\"\n",
        "Qual a moda da idade das mães para as crianças que nasceram com anomalia congênita?\n",
        "\"\"\"\n",
        "\n",
        "sinasc[(sinasc.IDANOMAL == '1')]['IDADEMAE'].mode()\n"
      ],
      "execution_count": 83,
      "outputs": [
        {
          "output_type": "execute_result",
          "data": {
            "text/plain": [
              "0    21\n",
              "dtype: int64"
            ]
          },
          "metadata": {
            "tags": []
          },
          "execution_count": 83
        }
      ]
    }
  ]
}