{
  "nbformat": 4,
  "nbformat_minor": 0,
  "metadata": {
    "colab": {
      "name": "python_aula2.ipynb",
      "provenance": []
    },
    "kernelspec": {
      "name": "python3",
      "display_name": "Python 3"
    },
    "language_info": {
      "name": "python"
    }
  },
  "cells": [
    {
      "cell_type": "code",
      "metadata": {
        "colab": {
          "base_uri": "https://localhost:8080/"
        },
        "id": "UU8PLrK6fpvt",
        "outputId": "345fad78-b343-452e-f876-9e6aa29775fa"
      },
      "source": [
        "\"\"\"\n",
        "1. Você tem uma lista de número: [6,7,4,7,8,4,2,5,7,&#39;hum&#39;, &#39;dois&#39;]. A ideia do exercício é\n",
        "tirar a média de todos os valores contidos na lista, porém para fazer o cálculo\n",
        "precisa remover as strings.\n",
        "\"\"\"\n",
        "\n",
        "#function recieve list, calculate mean for int values\n",
        "def calcList(list1):\n",
        "  varSum = 0\n",
        "  varQtyInt = 0\n",
        "  for num in list1:\n",
        "    if type(num) is not str:\n",
        "      varSum = varSum + num\n",
        "      varQtyInt = varQtyInt + 1\n",
        "\n",
        "  result = varSum/varQtyInt\n",
        "  return result \n",
        "\n",
        "#set variables\n",
        "listNums = [6,7,4,7,8,4,2,5,7,'hum', 'dois']\n",
        "\n",
        "#call function\n",
        "calcList(listNums)"
      ],
      "execution_count": 17,
      "outputs": [
        {
          "output_type": "execute_result",
          "data": {
            "text/plain": [
              "5.555555555555555"
            ]
          },
          "metadata": {
            "tags": []
          },
          "execution_count": 17
        }
      ]
    },
    {
      "cell_type": "code",
      "metadata": {
        "colab": {
          "base_uri": "https://localhost:8080/"
        },
        "id": "iRHig3RLjN3E",
        "outputId": "d0bdc4c3-25fc-4fd9-de9a-7475fad08cf1"
      },
      "source": [
        "\"\"\"\n",
        "2. crie um método que receba duas matrizes, some os valores total de cada matriz e\n",
        "depois multiple o resultado delas e retorne o valor.\n",
        "\"\"\"\n",
        "\n",
        "#function to sum list values\n",
        "def sumList(list1):\n",
        "  if type(list1) is not list:    \n",
        "    return (\"Lista informada não contém o formato 'list'\")\n",
        "  else:\n",
        "    varSum = 0\n",
        "    for num in list1:\n",
        "      if type(num) is not str:\n",
        "        varSum = varSum + num  \n",
        "  return varSum\n",
        "\n",
        "#function to cal sumList functions and multiply values\n",
        "def calcLists(list1,list2):\n",
        "  if type(list1) is not list or type(list2) is not list:    \n",
        "    return (\"Listas informadas não contém o formato 'list'\")\n",
        "  else:    \n",
        "    result = sumList(list1) * sumList(list2)\n",
        "    return result\n",
        "\n",
        "#set variables\n",
        "firstList = [2,2,2]  \n",
        "secondList = [2,2,2]\n",
        "\n",
        "#call function\n",
        "calcLists(firstList,secondList)"
      ],
      "execution_count": 13,
      "outputs": [
        {
          "output_type": "execute_result",
          "data": {
            "text/plain": [
              "36"
            ]
          },
          "metadata": {
            "tags": []
          },
          "execution_count": 13
        }
      ]
    },
    {
      "cell_type": "code",
      "metadata": {
        "colab": {
          "base_uri": "https://localhost:8080/"
        },
        "id": "FMjqG4L_4uUM",
        "outputId": "4490365b-4cfd-42af-8399-0268ddeb8feb"
      },
      "source": [
        "\"\"\"\n",
        "3. Criar uma matriz nxm (n = 5, m =7)\n",
        "a. faça a matriz transposta desta matriz\n",
        "b. somar toda matrix\n",
        "c. somar todas as colunas\n",
        "d. somar todas as linhas.\n",
        "e. retorne o maior valor\n",
        "f. retorne o menor valor.\n",
        "\"\"\"\n",
        "\n",
        "#import libs\n",
        "import numpy as np\n",
        "\n",
        "#create array nxm (n = 5, m =7)\n",
        "varArray = np.array(np.arange(35))\n",
        "varArray.shape = (5,7)\n",
        "\n",
        "#a \n",
        "print(\"A)\\n\",np.transpose(varArray))\n",
        "\n",
        "#b\n",
        "print(\"B)\\n\",varArray.sum())\n",
        "\n",
        "#c\n",
        "print(\"C)\\n\",varArray.sum(axis=0))\n",
        "\n",
        "#d\n",
        "print(\"D)\\n\",varArray.sum(axis=1))\n",
        "\n",
        "#e\n",
        "print(\"E)\\n\",varArray.argmin())\n",
        "\n",
        "#f\n",
        "print(\"F)\\n\",varArray.argmax())"
      ],
      "execution_count": 49,
      "outputs": [
        {
          "output_type": "stream",
          "text": [
            "A)\n",
            " [[ 0  7 14 21 28]\n",
            " [ 1  8 15 22 29]\n",
            " [ 2  9 16 23 30]\n",
            " [ 3 10 17 24 31]\n",
            " [ 4 11 18 25 32]\n",
            " [ 5 12 19 26 33]\n",
            " [ 6 13 20 27 34]]\n",
            "B)\n",
            " 595\n",
            "C)\n",
            " [ 70  75  80  85  90  95 100]\n",
            "D)\n",
            " [ 21  70 119 168 217]\n",
            "E)\n",
            " 0\n",
            "F)\n",
            " 34\n"
          ],
          "name": "stdout"
        }
      ]
    },
    {
      "cell_type": "code",
      "metadata": {
        "colab": {
          "base_uri": "https://localhost:8080/"
        },
        "id": "LG2WLrfi_jZn",
        "outputId": "8ff6e9a2-7256-40c7-903d-c4602235e372"
      },
      "source": [
        "\"\"\"\n",
        "4. Crie uma matriz nxn (n=5). Agora some essa matriz com a matriz do exercício 3.\n",
        "\"\"\"\n",
        "\n",
        "#import libs\n",
        "import numpy as np\n",
        "\n",
        "#func to sum two array values\n",
        "def sumNpArray(array0,array1):\n",
        "  if not isinstance(array0, np.ndarray) or not isinstance(array1, np.ndarray):   \n",
        "    return (\"Lista informada não contém o formato 'Numpy Array'\")\n",
        "  else:\n",
        "    varSum = array0.sum() + array1.sum()\n",
        "    return varSum\n",
        "    \n",
        "#create array nxm (n = 5, m =7)\n",
        "varArray0 = np.array(np.arange(35))\n",
        "varArray0.shape = (5,7)\n",
        "\n",
        "#create array nxm (n = 5, m =5)\n",
        "varArray1 = np.array(np.arange(25))\n",
        "varArray1.shape = (5,5)\n",
        "\n",
        "sumNpArray(varArray0 ,varArray1)"
      ],
      "execution_count": 65,
      "outputs": [
        {
          "output_type": "execute_result",
          "data": {
            "text/plain": [
              "895"
            ]
          },
          "metadata": {
            "tags": []
          },
          "execution_count": 65
        }
      ]
    },
    {
      "cell_type": "code",
      "metadata": {
        "colab": {
          "base_uri": "https://localhost:8080/"
        },
        "id": "buwExPR6H-73",
        "outputId": "36ac10f8-b3a7-49d4-ac8b-027ac643dcd9"
      },
      "source": [
        "\"\"\"\n",
        "5. crie um array de números que vai de 0 a 1000.\n",
        "\"\"\"\n",
        "\n",
        "#import libs\n",
        "import numpy as np\n",
        "\n",
        "np.arange(1001)\n",
        "\n"
      ],
      "execution_count": 67,
      "outputs": [
        {
          "output_type": "execute_result",
          "data": {
            "text/plain": [
              "array([   0,    1,    2, ...,  998,  999, 1000])"
            ]
          },
          "metadata": {
            "tags": []
          },
          "execution_count": 67
        }
      ]
    },
    {
      "cell_type": "code",
      "metadata": {
        "colab": {
          "base_uri": "https://localhost:8080/"
        },
        "id": "ydLEHPN7Ijgw",
        "outputId": "ba2652e7-2722-485d-a223-520ee1245d14"
      },
      "source": [
        "\"\"\"\n",
        "6. crie uma matriz só de zeros.\n",
        "\"\"\"\n",
        "#import libs\n",
        "import numpy as np\n",
        "\n",
        "np.zeros(100)"
      ],
      "execution_count": 68,
      "outputs": [
        {
          "output_type": "execute_result",
          "data": {
            "text/plain": [
              "array([0., 0., 0., 0., 0., 0., 0., 0., 0., 0., 0., 0., 0., 0., 0., 0., 0.,\n",
              "       0., 0., 0., 0., 0., 0., 0., 0., 0., 0., 0., 0., 0., 0., 0., 0., 0.,\n",
              "       0., 0., 0., 0., 0., 0., 0., 0., 0., 0., 0., 0., 0., 0., 0., 0., 0.,\n",
              "       0., 0., 0., 0., 0., 0., 0., 0., 0., 0., 0., 0., 0., 0., 0., 0., 0.,\n",
              "       0., 0., 0., 0., 0., 0., 0., 0., 0., 0., 0., 0., 0., 0., 0., 0., 0.,\n",
              "       0., 0., 0., 0., 0., 0., 0., 0., 0., 0., 0., 0., 0., 0., 0.])"
            ]
          },
          "metadata": {
            "tags": []
          },
          "execution_count": 68
        }
      ]
    }
  ]
}